{
 "cells": [
  {
   "cell_type": "code",
   "execution_count": 1,
   "id": "mysterious-percentage",
   "metadata": {},
   "outputs": [],
   "source": [
    "import time\n",
    "import copy\n",
    "\n",
    "import numpy as np\n",
    "\n",
    "import rlrisk.env\n",
    "import rlrisk.simple_policy\n",
    "import rlrisk.train"
   ]
  },
  {
   "cell_type": "code",
   "execution_count": 6,
   "id": "requested-paraguay",
   "metadata": {},
   "outputs": [],
   "source": [
    "game_spec = dict(\n",
    "    n_players=3,\n",
    "    n_territories=8,\n",
    "    baseline_reinforcements=3,\n",
    "    reinforcements_per_territory=0,\n",
    "    n_attacks_per_turn=5,\n",
    "    max_turns=50\n",
    ")"
   ]
  },
  {
   "cell_type": "code",
   "execution_count": 7,
   "id": "legitimate-calendar",
   "metadata": {},
   "outputs": [],
   "source": [
    "p = rlrisk.simple_policy.SimplePolicyPlayer(0.001)\n",
    "#p = vpg.VPGPlayer(0.005, 0.001, 50)"
   ]
  },
  {
   "cell_type": "code",
   "execution_count": 8,
   "id": "automatic-colleague",
   "metadata": {},
   "outputs": [],
   "source": [
    "players = [p, p, rlrisk.env.DumbPlayer()]"
   ]
  },
  {
   "cell_type": "code",
   "execution_count": 9,
   "id": "engaging-praise",
   "metadata": {},
   "outputs": [
    {
     "name": "stdout",
     "output_type": "stream",
     "text": [
      "epoch 0\n",
      "player 0  Win percentage: 0.000 Average game length: 62.188 Loss: -0.000\n",
      "player 1 player 2 epoch 1\n",
      "player 0  Win percentage: 0.000 Average game length: 62.355 Loss: -0.000\n",
      "player 1 player 2 epoch 2\n",
      "player 0  Win percentage: 0.000 Average game length: 62.532 Loss: -0.000\n",
      "player 1 player 2 epoch 3\n",
      "player 0  Win percentage: 0.000 Average game length: 62.774 Loss: -0.000\n",
      "player 1 player 2 epoch 4\n",
      "player 0  Win percentage: 0.000 Average game length: 62.620 Loss: -0.000\n",
      "player 1 player 2 epoch 5\n",
      "player 0  Win percentage: 0.000 Average game length: 62.327 Loss: -0.000\n",
      "player 1 player 2 epoch 6\n",
      "player 0  Win percentage: 0.000 Average game length: 62.496 Loss: -0.000\n",
      "player 1 player 2 epoch 7\n",
      "player 0  Win percentage: 0.000 Average game length: 62.300 Loss: -0.000\n",
      "player 1 player 2 epoch 8\n",
      "player 0  Win percentage: 0.001 Average game length: 62.373 Loss: 0.003\n",
      "player 1 player 2 epoch 9\n",
      "player 0  Win percentage: 0.001 Average game length: 62.322 Loss: 0.002\n",
      "player 1 player 2 epoch 10\n",
      "player 0  Win percentage: 0.000 Average game length: 62.534 Loss: -0.000\n",
      "player 1 player 2 epoch 11\n",
      "player 0  Win percentage: 0.000 Average game length: 62.749 Loss: -0.000\n",
      "player 1 player 2 epoch 12\n",
      "player 0  Win percentage: 0.000 Average game length: 62.630 Loss: -0.000\n",
      "player 1 player 2 epoch 13\n",
      "player 0  Win percentage: 0.000 Average game length: 62.688 Loss: -0.000\n",
      "player 1 player 2 epoch 14\n",
      "player 0 "
     ]
    },
    {
     "ename": "KeyboardInterrupt",
     "evalue": "",
     "output_type": "error",
     "traceback": [
      "\u001b[0;31m---------------------------------------------------------------------------\u001b[0m",
      "\u001b[0;31mKeyboardInterrupt\u001b[0m                         Traceback (most recent call last)",
      "\u001b[0;32m<ipython-input-9-fb05f04290a1>\u001b[0m in \u001b[0;36m<module>\u001b[0;34m\u001b[0m\n\u001b[0;32m----> 1\u001b[0;31m \u001b[0mrlrisk\u001b[0m\u001b[0;34m.\u001b[0m\u001b[0mtrain\u001b[0m\u001b[0;34m.\u001b[0m\u001b[0mtrain\u001b[0m\u001b[0;34m(\u001b[0m\u001b[0mgame_spec\u001b[0m\u001b[0;34m,\u001b[0m \u001b[0mplayers\u001b[0m\u001b[0;34m,\u001b[0m \u001b[0;36m100\u001b[0m\u001b[0;34m,\u001b[0m \u001b[0;36m1000\u001b[0m\u001b[0;34m,\u001b[0m \u001b[0;34m[\u001b[0m\u001b[0;36m0\u001b[0m\u001b[0;34m,\u001b[0m\u001b[0;36m1\u001b[0m\u001b[0;34m,\u001b[0m\u001b[0;36m2\u001b[0m\u001b[0;34m]\u001b[0m\u001b[0;34m)\u001b[0m\u001b[0;34m\u001b[0m\u001b[0;34m\u001b[0m\u001b[0m\n\u001b[0m",
      "\u001b[0;32m~/Dropbox/active/rlrisk/rlrisk/train.py\u001b[0m in \u001b[0;36mtrain\u001b[0;34m(spec, players, n_batches, batch_size, print_players)\u001b[0m\n\u001b[1;32m     39\u001b[0m     \u001b[0;32mfor\u001b[0m \u001b[0mi\u001b[0m \u001b[0;32min\u001b[0m \u001b[0mrange\u001b[0m\u001b[0;34m(\u001b[0m\u001b[0mn_batches\u001b[0m\u001b[0;34m)\u001b[0m\u001b[0;34m:\u001b[0m\u001b[0;34m\u001b[0m\u001b[0;34m\u001b[0m\u001b[0m\n\u001b[1;32m     40\u001b[0m         \u001b[0mprint\u001b[0m\u001b[0;34m(\u001b[0m\u001b[0;34m\"epoch\"\u001b[0m\u001b[0;34m,\u001b[0m \u001b[0mi\u001b[0m\u001b[0;34m)\u001b[0m\u001b[0;34m\u001b[0m\u001b[0;34m\u001b[0m\u001b[0m\n\u001b[0;32m---> 41\u001b[0;31m         \u001b[0mresults\u001b[0m\u001b[0;34m.\u001b[0m\u001b[0mappend\u001b[0m\u001b[0;34m(\u001b[0m\u001b[0mtrain_one_epoch\u001b[0m\u001b[0;34m(\u001b[0m\u001b[0mspec\u001b[0m\u001b[0;34m,\u001b[0m \u001b[0mplayers\u001b[0m\u001b[0;34m,\u001b[0m \u001b[0mbatch_size\u001b[0m\u001b[0;34m)\u001b[0m\u001b[0;34m)\u001b[0m\u001b[0;34m\u001b[0m\u001b[0;34m\u001b[0m\u001b[0m\n\u001b[0m",
      "\u001b[0;32m~/Dropbox/active/rlrisk/rlrisk/train.py\u001b[0m in \u001b[0;36mtrain_one_epoch\u001b[0;34m(spec, players, batch_size)\u001b[0m\n\u001b[1;32m     31\u001b[0m     \u001b[0;32mfor\u001b[0m \u001b[0mi\u001b[0m\u001b[0;34m,\u001b[0m \u001b[0mp\u001b[0m \u001b[0;32min\u001b[0m \u001b[0menumerate\u001b[0m\u001b[0;34m(\u001b[0m\u001b[0mplayers\u001b[0m\u001b[0;34m)\u001b[0m\u001b[0;34m:\u001b[0m\u001b[0;34m\u001b[0m\u001b[0;34m\u001b[0m\u001b[0m\n\u001b[1;32m     32\u001b[0m         \u001b[0mprint\u001b[0m\u001b[0;34m(\u001b[0m\u001b[0;34mf\"player {i} \"\u001b[0m\u001b[0;34m,\u001b[0m \u001b[0mend\u001b[0m\u001b[0;34m=\u001b[0m\u001b[0;34m\"\"\u001b[0m\u001b[0;34m)\u001b[0m\u001b[0;34m\u001b[0m\u001b[0;34m\u001b[0m\u001b[0m\n\u001b[0;32m---> 33\u001b[0;31m         \u001b[0mout\u001b[0m\u001b[0;34m.\u001b[0m\u001b[0mappend\u001b[0m\u001b[0;34m(\u001b[0m\u001b[0mp\u001b[0m\u001b[0;34m.\u001b[0m\u001b[0mlearn\u001b[0m\u001b[0;34m(\u001b[0m\u001b[0;34m)\u001b[0m\u001b[0;34m)\u001b[0m\u001b[0;34m\u001b[0m\u001b[0;34m\u001b[0m\u001b[0m\n\u001b[0m\u001b[1;32m     34\u001b[0m     \u001b[0;32mreturn\u001b[0m \u001b[0mout\u001b[0m\u001b[0;34m\u001b[0m\u001b[0;34m\u001b[0m\u001b[0m\n\u001b[1;32m     35\u001b[0m \u001b[0;34m\u001b[0m\u001b[0m\n",
      "\u001b[0;32m~/Dropbox/active/rlrisk/rlrisk/simple_policy.py\u001b[0m in \u001b[0;36mlearn\u001b[0;34m(self)\u001b[0m\n\u001b[1;32m    134\u001b[0m         loss = self.compute_loss(\n\u001b[1;32m    135\u001b[0m             \u001b[0mobs\u001b[0m\u001b[0;34m=\u001b[0m\u001b[0mtorch\u001b[0m\u001b[0;34m.\u001b[0m\u001b[0mas_tensor\u001b[0m\u001b[0;34m(\u001b[0m\u001b[0mself\u001b[0m\u001b[0;34m.\u001b[0m\u001b[0mepoch_data\u001b[0m\u001b[0;34m[\u001b[0m\u001b[0;34m\"observations\"\u001b[0m\u001b[0;34m]\u001b[0m\u001b[0;34m,\u001b[0m \u001b[0mdtype\u001b[0m\u001b[0;34m=\u001b[0m\u001b[0mtorch\u001b[0m\u001b[0;34m.\u001b[0m\u001b[0mfloat32\u001b[0m\u001b[0;34m)\u001b[0m\u001b[0;34m,\u001b[0m\u001b[0;34m\u001b[0m\u001b[0;34m\u001b[0m\u001b[0m\n\u001b[0;32m--> 136\u001b[0;31m             \u001b[0mact\u001b[0m\u001b[0;34m=\u001b[0m\u001b[0mtorch\u001b[0m\u001b[0;34m.\u001b[0m\u001b[0mas_tensor\u001b[0m\u001b[0;34m(\u001b[0m\u001b[0mself\u001b[0m\u001b[0;34m.\u001b[0m\u001b[0mepoch_data\u001b[0m\u001b[0;34m[\u001b[0m\u001b[0;34m\"actions\"\u001b[0m\u001b[0;34m]\u001b[0m\u001b[0;34m,\u001b[0m \u001b[0mdtype\u001b[0m\u001b[0;34m=\u001b[0m\u001b[0mtorch\u001b[0m\u001b[0;34m.\u001b[0m\u001b[0mint32\u001b[0m\u001b[0;34m)\u001b[0m\u001b[0;34m,\u001b[0m\u001b[0;34m\u001b[0m\u001b[0;34m\u001b[0m\u001b[0m\n\u001b[0m\u001b[1;32m    137\u001b[0m             weights=torch.as_tensor(\n\u001b[1;32m    138\u001b[0m                 \u001b[0mself\u001b[0m\u001b[0;34m.\u001b[0m\u001b[0mepoch_data\u001b[0m\u001b[0;34m[\u001b[0m\u001b[0;34m\"returns_to_go\"\u001b[0m\u001b[0;34m]\u001b[0m\u001b[0;34m,\u001b[0m \u001b[0mdtype\u001b[0m\u001b[0;34m=\u001b[0m\u001b[0mtorch\u001b[0m\u001b[0;34m.\u001b[0m\u001b[0mfloat32\u001b[0m\u001b[0;34m\u001b[0m\u001b[0;34m\u001b[0m\u001b[0m\n",
      "\u001b[0;31mKeyboardInterrupt\u001b[0m: "
     ]
    }
   ],
   "source": [
    "rlrisk.train.train(game_spec, players, 100, 1000, [0,1,2])"
   ]
  },
  {
   "cell_type": "code",
   "execution_count": 14,
   "id": "pretty-permission",
   "metadata": {},
   "outputs": [],
   "source": [
    "_, _, history = rlrisk.env.play_games(game_spec, players, np.arange(1000), record=True)"
   ]
  },
  {
   "cell_type": "code",
   "execution_count": 27,
   "id": "appropriate-knife",
   "metadata": {},
   "outputs": [
    {
     "data": {
      "text/plain": [
       "394"
      ]
     },
     "execution_count": 27,
     "metadata": {},
     "output_type": "execute_result"
    }
   ],
   "source": [
    "len(history)"
   ]
  },
  {
   "cell_type": "code",
   "execution_count": 32,
   "id": "close-static",
   "metadata": {},
   "outputs": [],
   "source": [
    "player_idxs = np.array([data[1] for data in history])\n",
    "all_states = np.array([data[2] for data in history])"
   ]
  },
  {
   "cell_type": "code",
   "execution_count": 33,
   "id": "black-tooth",
   "metadata": {},
   "outputs": [
    {
     "data": {
      "text/plain": [
       "(394, 1000)"
      ]
     },
     "execution_count": 33,
     "metadata": {},
     "output_type": "execute_result"
    }
   ],
   "source": [
    "player_idxs.shape"
   ]
  },
  {
   "cell_type": "code",
   "execution_count": 42,
   "id": "informational-stranger",
   "metadata": {},
   "outputs": [
    {
     "data": {
      "image/png": "[encoded data removed]",
      "text/plain": [
       "<Figure size 432x288 with 1 Axes>"
      ]
     },
     "metadata": {
      "needs_background": "light"
     },
     "output_type": "display_data"
    }
   ],
   "source": [
    "MAT = rlrisk.env.states_to_territory_matrix(all_states[player_idxs[:,0] == 0, 0, :])\n",
    "\n",
    "total_armies = np.sum(MAT[:,:,0], axis=1)\n",
    "import matplotlib.pyplot as plt\n",
    "plt.plot(np.sum(MAT[:,:,0] * MAT[:,:,1], axis=1) / total_armies)\n",
    "plt.show()"
   ]
  },
  {
   "cell_type": "code",
   "execution_count": 19,
   "id": "overall-organic",
   "metadata": {},
   "outputs": [],
   "source": [
    "SS.shape\n",
    "SS = all_states[:,player_idxs[:,all_states[:,:,rlrisk.env.n_max_players:].reshape(\n",
    "    all_states.shape[0], rlrisk.env.n_max_territories, rlrisk.env.n_max_players + 1 \n",
    ")"
   ]
  },
  {
   "cell_type": "code",
   "execution_count": 26,
   "id": "limiting-legislation",
   "metadata": {},
   "outputs": [
    {
     "data": {
      "text/plain": [
       "array([19., 19., 19., 18., 18., 17., 16., 19., 19., 19., 17., 16., 15., 14., 17., 17., 17., 17., 17., 17., 17., 20., 20., 20., 19., 17., 16., 16., 19., 19., 18., 18., 18., 18., 18., 18., 18., 21.,\n",
       "       21., 21., 19., 17., 17., 17., 20., 20., 20., 20., 20., 20., 20., 23., 23., 23., 21., 20., 20., 20., 23., 23., 23., 23., 23., 23., 23., 26., 26., 26., 26., 26., 26., 26., 29., 29., 29., 29.,\n",
       "       29., 29., 29., 32., 32., 32., 32., 31., 31., 31., 34., 34., 34., 34., 32., 30., 30., 30., 33., 33., 33., 33., 33., 33., 33., 36., 36., 36., 36., 36., 36., 36., 39., 39., 39., 39., 39., 39.,\n",
       "       39., 42., 42., 42., 40., 40., 40., 40., 43., 43., 43., 43., 42., 42., 42., 45., 45., 45., 45., 45., 45., 45., 48., 46., 46., 46., 45., 43., 42., 42., 45., 45., 45., 45., 44., 44., 44., 47.,\n",
       "       47., 47., 47., 47., 47., 47., 50., 50., 50., 50., 49., 47., 46., 46., 49., 47., 47., 47., 47., 47., 45., 44., 43., 46., 46., 46., 46., 46., 45., 43., 43., 45., 44., 44., 42., 42., 40., 38.,\n",
       "       38., 38., 41., 39., 39., 38., 38., 37., 36., 35., 35., 38., 38., 38., 37., 36., 36., 36., 39., 39., 39., 39., 38., 38., 38., 41., 41., 40., 40., 39., 37., 37., 37., 40., 40., 40., 40., 40.,\n",
       "       38., 36., 35., 35., 38., 38., 38., 37., 37., 37., 37., 40., 40., 40., 40., 40., 39., 39., 39., 42., 42., 42., 42., 42., 42., 42., 45., 45., 45., 45., 45., 45., 45., 45., 48., 48., 48., 46.,\n",
       "       44., 42., 42., 45., 45., 45., 45., 45., 45., 45., 48., 48., 48., 47., 47., 47., 47., 50., 50., 50., 48., 47., 46., 46., 49., 49., 49., 49., 49., 48., 48., 48., 51., 51., 51., 49., 47., 47.,\n",
       "       47., 50., 50., 50., 49., 47., 45., 45., 48., 48., 48., 47., 45., 45., 45., 48., 48., 48., 48., 48., 46., 46., 46., 46., 49., 49., 49., 49., 47., 45., 45., 44., 47., 47., 47., 45., 44., 42.,\n",
       "       42., 45., 45., 45., 45., 45., 45., 43., 42., 42., 42., 45., 45., 45., 45., 44., 44., 44., 44., 47., 47., 46., 46., 46., 46., 46., 46., 46., 49., 49., 49., 49., 49., 49., 49., 49., 52., 52.,\n",
       "       52., 52., 52., 52., 52., 52., 52., 52., 52., 52., 52., 52., 52., 52.], dtype=float32)"
      ]
     },
     "execution_count": 26,
     "metadata": {},
     "output_type": "execute_result"
    }
   ],
   "source": [
    "np.sum(SS[:,:,0] * SS[:,:,1],axis=1)"
   ]
  },
  {
   "cell_type": "code",
   "execution_count": 13,
   "id": "boxed-advantage",
   "metadata": {},
   "outputs": [
    {
     "data": {
      "text/plain": [
       "(array([0, 1, 3], dtype=int32), array([715, 258,  27]))"
      ]
     },
     "execution_count": 13,
     "metadata": {},
     "output_type": "execute_result"
    }
   ],
   "source": [
    "np.unique(rlrisk.env.play_games(game_spec, players, np.arange(1000))[0], return_counts=True)"
   ]
  }
 ],
 "metadata": {
  "kernelspec": {
   "display_name": "Python 3",
   "language": "python",
   "name": "python3"
  },
  "language_info": {
   "codemirror_mode": {
    "name": "ipython",
    "version": 3
   },
   "file_extension": ".py",
   "mimetype": "text/x-python",
   "name": "python",
   "nbconvert_exporter": "python",
   "pygments_lexer": "ipython3",
   "version": "3.9.2"
  }
 },
 "nbformat": 4,
 "nbformat_minor": 5
}
