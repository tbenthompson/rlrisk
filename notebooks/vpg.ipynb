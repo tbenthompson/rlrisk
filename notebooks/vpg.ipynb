{
 "cells": [
  {
   "cell_type": "code",
   "execution_count": 1,
   "id": "respiratory-designation",
   "metadata": {},
   "outputs": [],
   "source": [
    "import time\n",
    "import numpy as np\n",
    "import risk_ext\n",
    "\n",
    "import torch\n",
    "import torch.nn as nn\n",
    "from torch.distributions.categorical import Categorical\n",
    "from torch.optim import Adam\n",
    "torch.manual_seed(0)\n",
    "\n",
    "def vec_to_matrix(game, v):\n",
    "    return v.reshape((game.n_max_territories, 1 + game.n_max_players))\n",
    "\n",
    "def get_state_dim():\n",
    "    tmp = risk_ext.start_game(1, 1, 0)\n",
    "    return tmp.n_max_territories * (1 + tmp.n_max_players)\n",
    "    \n",
    "def mlp(sizes, activation=nn.Tanh, output_activation=nn.Identity):\n",
    "    # Build a feedforward neural network.\n",
    "    layers = []\n",
    "    for j in range(len(sizes)-1):\n",
    "        act = activation if j < len(sizes)-2 else output_activation\n",
    "        layers += [nn.Linear(sizes[j], sizes[j+1]), act()]\n",
    "    return nn.Sequential(*layers)\n",
    "\n",
    "class NNPlayer:\n",
    "    def __init__(self):\n",
    "        self.state_dim = get_state_dim()\n",
    "        self.n_actions = 3\n",
    "        self.lr = 0.01\n",
    "\n",
    "        self.logits_net = mlp(sizes=[self.state_dim]+[32]+[self.n_actions])\n",
    "        self.optimizer = Adam(self.logits_net.parameters(), lr=self.lr)\n",
    "\n",
    "    def get_policy(self, obs):\n",
    "        logits = self.logits_net(obs)\n",
    "        return Categorical(logits=logits)\n",
    "\n",
    "    def get_action(self, obs):\n",
    "        return self.get_policy(obs).sample().item()\n",
    "\n",
    "    def compute_loss(self, obs, act, weights):\n",
    "        logp = self.get_policy(obs).log_prob(act)\n",
    "        return -(logp * weights).mean()\n",
    "    \n",
    "    def act(self, game, state_vec):\n",
    "        owner_col = vec_to_matrix(game, state_vec)[:, 1]\n",
    "        attack_from = (owner_col == 1).argmax()\n",
    "        attack_to = self.get_action(torch.as_tensor(state_vec, dtype=torch.float32))\n",
    "        return attack_from, attack_to\n",
    "    \n",
    "    def learn(self, obs, actions, weights):\n",
    "        self.optimizer.zero_grad()\n",
    "        batch_loss = self.compute_loss(obs=torch.as_tensor(obs, dtype=torch.float32),\n",
    "                                  act=torch.as_tensor(actions, dtype=torch.int32),\n",
    "                                  weights=torch.as_tensor(weights, dtype=torch.float32)\n",
    "                                  )\n",
    "        batch_loss.backward()\n",
    "        self.optimizer.step()\n",
    "        return batch_loss\n",
    "\n",
    "class DumbPlayer:\n",
    "    def act(self, game, state_vec):\n",
    "        owner_col = vec_to_matrix(game, state_vec)[:, game.player_idx + 1]\n",
    "        attack_from = (owner_col == 1).argmax()\n",
    "        attack_to = (owner_col != 1).argmax()\n",
    "        return attack_from, attack_to\n",
    "\n",
    "    def learn(self, obs, actions, weights):\n",
    "        pass"
   ]
  },
  {
   "cell_type": "code",
   "execution_count": 2,
   "id": "imperial-supplier",
   "metadata": {},
   "outputs": [],
   "source": [
    "n_players = 3\n",
    "n_territories = 3"
   ]
  },
  {
   "cell_type": "code",
   "execution_count": 3,
   "id": "authentic-order",
   "metadata": {},
   "outputs": [],
   "source": [
    "class Env:\n",
    "    def __init__(self):\n",
    "        self.n_games = 0\n",
    "        \n",
    "    def reset(self, seed=None):\n",
    "        self.n_games += 1\n",
    "        if seed is None:\n",
    "            seed = self.n_games\n",
    "        self.game = risk_ext.start_game(n_players, n_territories, seed)\n",
    "        return self.game.board_state\n",
    "    \n",
    "    def step(self, action):\n",
    "        self.game.step(*action)\n",
    "        done = self.game.phase == 3\n",
    "        return self.game.board_state, float(done), done"
   ]
  },
  {
   "cell_type": "code",
   "execution_count": 4,
   "id": "complex-infrastructure",
   "metadata": {},
   "outputs": [],
   "source": [
    "class PlayerBatch:\n",
    "    def __init__(self):\n",
    "        self.obs = []\n",
    "        self.actions = []\n",
    "        self.weights = []\n",
    "        self.returns = []\n",
    "        self.lengths = []\n",
    "        self.start_episode()\n",
    "    \n",
    "    def record(self, obs, action):      \n",
    "        self.obs.append(obs.copy())\n",
    "        self.actions.append(action[1])\n",
    "        self.ep_length += 1\n",
    "    \n",
    "    def finish_episode(self, reward):\n",
    "        self.ep_returns = reward\n",
    "        self.returns.append(self.ep_returns)\n",
    "        self.lengths.append(self.ep_length)\n",
    "        self.weights += [self.ep_returns] * self.ep_length\n",
    "        self.start_episode()\n",
    "    \n",
    "    def start_episode(self):\n",
    "        self.ep_length = 0\n",
    "        self.ep_returns = 0"
   ]
  },
  {
   "cell_type": "code",
   "execution_count": 5,
   "id": "variable-silly",
   "metadata": {},
   "outputs": [],
   "source": [
    "env = Env()\n",
    "players = [NNPlayer(), DumbPlayer(), DumbPlayer()]"
   ]
  },
  {
   "cell_type": "code",
   "execution_count": 6,
   "id": "threaded-wonder",
   "metadata": {},
   "outputs": [],
   "source": [
    "def train_one_epoch(batch_size):\n",
    "    batches = [PlayerBatch() for p in players]\n",
    "    obs = env.reset()\n",
    "\n",
    "    go = True\n",
    "    while go:\n",
    "        #print(env.game.turn_idx, env.game.player_idx)\n",
    "        action = players[env.game.player_idx].act(env.game, obs)\n",
    "        batches[env.game.player_idx].record(obs, action)\n",
    "        obs, reward, done = env.step(action)\n",
    "        if done:\n",
    "            for i in range(len(players)):\n",
    "                player_reward = reward if i == env.game.player_idx else 0\n",
    "                b = batches[i]\n",
    "                b.finish_episode(player_reward)\n",
    "                if len(b.obs) > batch_size:\n",
    "                    go = False\n",
    "            obs = env.reset()\n",
    "            \n",
    "\n",
    "    loss = [\n",
    "        players[i].learn(\n",
    "            batches[i].obs, \n",
    "            batches[i].actions, \n",
    "            batches[i].weights\n",
    "        ) for i in range(len(players))\n",
    "    ]\n",
    "    return loss, [b.returns for b in batches], [b.lengths for b in batches]"
   ]
  },
  {
   "cell_type": "code",
   "execution_count": 7,
   "id": "waiting-disney",
   "metadata": {},
   "outputs": [
    {
     "name": "stderr",
     "output_type": "stream",
     "text": [
      "<ipython-input-1-d3c24dbe8a64>:49: UserWarning: The given NumPy array is not writeable, and PyTorch does not support non-writeable tensors. This means you can write to the underlying (supposedly non-writeable) NumPy array using the tensor. You may want to copy the array to protect its data or make it writeable before converting it to a tensor. This type of warning will be suppressed for the rest of this program. (Triggered internally at  /opt/conda/conda-bld/pytorch_1614378073166/work/torch/csrc/utils/tensor_numpy.cpp:143.)\n",
      "  attack_to = self.get_action(torch.as_tensor(state_vec, dtype=torch.float32))\n"
     ]
    },
    {
     "name": "stdout",
     "output_type": "stream",
     "text": [
      "epoch:   0 \t loss0: 0.571 \t return0: 0.460 \t ep_len: 16.583\n",
      "epoch:   1 \t loss0: 0.568 \t return0: 0.483 \t ep_len: 13.203\n",
      "epoch:   2 \t loss0: 0.577 \t return0: 0.510 \t ep_len: 11.289\n",
      "epoch:   3 \t loss0: 0.494 \t return0: 0.489 \t ep_len: 10.662\n",
      "epoch:   4 \t loss0: 0.566 \t return0: 0.561 \t ep_len: 9.891\n",
      "epoch:   5 \t loss0: 0.524 \t return0: 0.562 \t ep_len: 9.935\n",
      "epoch:   6 \t loss0: 0.588 \t return0: 0.610 \t ep_len: 11.694\n",
      "epoch:   7 \t loss0: 0.463 \t return0: 0.578 \t ep_len: 10.993\n",
      "epoch:   8 \t loss0: 0.524 \t return0: 0.597 \t ep_len: 15.176\n",
      "epoch:   9 \t loss0: 0.415 \t return0: 0.592 \t ep_len: 19.620\n",
      "epoch:  10 \t loss0: 0.327 \t return0: 0.570 \t ep_len: 19.388\n",
      "epoch:  11 \t loss0: 0.355 \t return0: 0.569 \t ep_len: 23.319\n",
      "epoch:  12 \t loss0: 0.204 \t return0: 0.596 \t ep_len: 38.051\n",
      "epoch:  13 \t loss0: 0.169 \t return0: 0.555 \t ep_len: 39.133\n",
      "epoch:  14 \t loss0: 0.199 \t return0: 0.586 \t ep_len: 37.872\n",
      "epoch:  15 \t loss0: 0.224 \t return0: 0.581 \t ep_len: 67.689\n",
      "epoch:  16 \t loss0: 0.311 \t return0: 0.627 \t ep_len: 32.824\n",
      "epoch:  17 \t loss0: 0.271 \t return0: 0.570 \t ep_len: 33.172\n",
      "epoch:  18 \t loss0: 0.293 \t return0: 0.619 \t ep_len: 27.630\n",
      "epoch:  19 \t loss0: 0.317 \t return0: 0.679 \t ep_len: 22.326\n",
      "epoch:  20 \t loss0: 0.224 \t return0: 0.579 \t ep_len: 23.301\n",
      "epoch:  21 \t loss0: 0.331 \t return0: 0.626 \t ep_len: 28.235\n",
      "epoch:  22 \t loss0: 0.326 \t return0: 0.637 \t ep_len: 22.664\n",
      "epoch:  23 \t loss0: 0.287 \t return0: 0.668 \t ep_len: 22.103\n",
      "epoch:  24 \t loss0: 0.279 \t return0: 0.628 \t ep_len: 19.667\n",
      "epoch:  25 \t loss0: 0.320 \t return0: 0.609 \t ep_len: 18.266\n",
      "epoch:  26 \t loss0: 0.323 \t return0: 0.588 \t ep_len: 14.033\n",
      "epoch:  27 \t loss0: 0.348 \t return0: 0.639 \t ep_len: 17.396\n",
      "epoch:  28 \t loss0: 0.318 \t return0: 0.623 \t ep_len: 13.975\n",
      "epoch:  29 \t loss0: 0.342 \t return0: 0.570 \t ep_len: 14.570\n",
      "epoch:  30 \t loss0: 0.342 \t return0: 0.617 \t ep_len: 13.534\n",
      "epoch:  31 \t loss0: 0.349 \t return0: 0.618 \t ep_len: 13.540\n",
      "epoch:  32 \t loss0: 0.323 \t return0: 0.651 \t ep_len: 12.058\n",
      "epoch:  33 \t loss0: 0.292 \t return0: 0.616 \t ep_len: 13.484\n",
      "epoch:  34 \t loss0: 0.363 \t return0: 0.632 \t ep_len: 13.516\n",
      "epoch:  35 \t loss0: 0.362 \t return0: 0.646 \t ep_len: 14.059\n",
      "epoch:  36 \t loss0: 0.402 \t return0: 0.705 \t ep_len: 13.572\n",
      "epoch:  37 \t loss0: 0.349 \t return0: 0.628 \t ep_len: 14.674\n",
      "epoch:  38 \t loss0: 0.316 \t return0: 0.675 \t ep_len: 15.072\n",
      "epoch:  39 \t loss0: 0.388 \t return0: 0.697 \t ep_len: 17.859\n",
      "epoch:  40 \t loss0: 0.359 \t return0: 0.678 \t ep_len: 14.248\n",
      "epoch:  41 \t loss0: 0.369 \t return0: 0.625 \t ep_len: 16.625\n",
      "epoch:  42 \t loss0: 0.342 \t return0: 0.623 \t ep_len: 16.315\n",
      "epoch:  43 \t loss0: 0.343 \t return0: 0.656 \t ep_len: 15.115\n",
      "epoch:  44 \t loss0: 0.346 \t return0: 0.628 \t ep_len: 17.382\n",
      "epoch:  45 \t loss0: 0.349 \t return0: 0.662 \t ep_len: 17.446\n",
      "epoch:  46 \t loss0: 0.322 \t return0: 0.644 \t ep_len: 17.661\n",
      "epoch:  47 \t loss0: 0.372 \t return0: 0.668 \t ep_len: 17.267\n",
      "epoch:  48 \t loss0: 0.343 \t return0: 0.632 \t ep_len: 20.099\n",
      "epoch:  49 \t loss0: 0.382 \t return0: 0.661 \t ep_len: 20.104\n"
     ]
    }
   ],
   "source": [
    "for i in range(50):\n",
    "    loss, rets, lens = train_one_epoch(5000)\n",
    "    print('epoch: %3d \\t loss0: %.3f \\t return0: %.3f \\t ep_len: %.3f'%\n",
    "            (i, loss[0], np.mean(rets[0]), np.mean(lens[0])))"
   ]
  },
  {
   "cell_type": "code",
   "execution_count": 7,
   "id": "circular-vienna",
   "metadata": {},
   "outputs": [],
   "source": [
    "def play_game(players, verbose=False, max_turns=None):    \n",
    "    env.reset()\n",
    "    while True:\n",
    "        action = players[env.game.player_idx].act(env.game, env.game.board_state)\n",
    "        if verbose:\n",
    "            print(env.game.turn_idx, env.game.player_idx, env.game.phase, action, env.game.board_state)\n",
    "        _,_,done = env.step(action)\n",
    "        if done:\n",
    "            break\n",
    "        if max_turns is not None:\n",
    "            if env.game.turn_idx > max_turns:\n",
    "                break\n",
    "    return env.game.player_idx\n",
    "\n",
    "def faceoff(players, n_games):\n",
    "    winners = np.empty(n_games, dtype = np.int32)\n",
    "    for i in range(n_games):\n",
    "        winners[i] = play_game(players)\n",
    "    return winners"
   ]
  },
  {
   "cell_type": "code",
   "execution_count": 8,
   "id": "worthy-wells",
   "metadata": {},
   "outputs": [
    {
     "name": "stderr",
     "output_type": "stream",
     "text": [
      "<ipython-input-1-d3c24dbe8a64>:49: UserWarning: The given NumPy array is not writeable, and PyTorch does not support non-writeable tensors. This means you can write to the underlying (supposedly non-writeable) NumPy array using the tensor. You may want to copy the array to protect its data or make it writeable before converting it to a tensor. This type of warning will be suppressed for the rest of this program. (Triggered internally at  /opt/conda/conda-bld/pytorch_1614378073166/work/torch/csrc/utils/tensor_numpy.cpp:143.)\n",
      "  attack_to = self.get_action(torch.as_tensor(state_vec, dtype=torch.float32))\n"
     ]
    },
    {
     "ename": "KeyboardInterrupt",
     "evalue": "",
     "output_type": "error",
     "traceback": [
      "\u001b[0;31m---------------------------------------------------------------------------\u001b[0m",
      "\u001b[0;31mKeyboardInterrupt\u001b[0m                         Traceback (most recent call last)",
      "\u001b[0;32m<ipython-input-8-f1a686b824c0>\u001b[0m in \u001b[0;36m<module>\u001b[0;34m\u001b[0m\n\u001b[0;32m----> 1\u001b[0;31m \u001b[0mnp\u001b[0m\u001b[0;34m.\u001b[0m\u001b[0msum\u001b[0m\u001b[0;34m(\u001b[0m\u001b[0mfaceoff\u001b[0m\u001b[0;34m(\u001b[0m\u001b[0mplayers\u001b[0m\u001b[0;34m,\u001b[0m \u001b[0;36m500\u001b[0m\u001b[0;34m)\u001b[0m \u001b[0;34m==\u001b[0m \u001b[0;36m0\u001b[0m\u001b[0;34m)\u001b[0m\u001b[0;34m\u001b[0m\u001b[0;34m\u001b[0m\u001b[0m\n\u001b[0m",
      "\u001b[0;32m<ipython-input-7-773426553e31>\u001b[0m in \u001b[0;36mfaceoff\u001b[0;34m(players, n_games)\u001b[0m\n\u001b[1;32m     13\u001b[0m     \u001b[0mwinners\u001b[0m \u001b[0;34m=\u001b[0m \u001b[0mnp\u001b[0m\u001b[0;34m.\u001b[0m\u001b[0mempty\u001b[0m\u001b[0;34m(\u001b[0m\u001b[0mn_games\u001b[0m\u001b[0;34m,\u001b[0m \u001b[0mdtype\u001b[0m \u001b[0;34m=\u001b[0m \u001b[0mnp\u001b[0m\u001b[0;34m.\u001b[0m\u001b[0mint32\u001b[0m\u001b[0;34m)\u001b[0m\u001b[0;34m\u001b[0m\u001b[0;34m\u001b[0m\u001b[0m\n\u001b[1;32m     14\u001b[0m     \u001b[0;32mfor\u001b[0m \u001b[0mi\u001b[0m \u001b[0;32min\u001b[0m \u001b[0mrange\u001b[0m\u001b[0;34m(\u001b[0m\u001b[0mn_games\u001b[0m\u001b[0;34m)\u001b[0m\u001b[0;34m:\u001b[0m\u001b[0;34m\u001b[0m\u001b[0;34m\u001b[0m\u001b[0m\n\u001b[0;32m---> 15\u001b[0;31m         \u001b[0mwinners\u001b[0m\u001b[0;34m[\u001b[0m\u001b[0mi\u001b[0m\u001b[0;34m]\u001b[0m \u001b[0;34m=\u001b[0m \u001b[0mplay_game\u001b[0m\u001b[0;34m(\u001b[0m\u001b[0mplayers\u001b[0m\u001b[0;34m)\u001b[0m\u001b[0;34m\u001b[0m\u001b[0;34m\u001b[0m\u001b[0m\n\u001b[0m\u001b[1;32m     16\u001b[0m     \u001b[0;32mreturn\u001b[0m \u001b[0mwinners\u001b[0m\u001b[0;34m\u001b[0m\u001b[0;34m\u001b[0m\u001b[0m\n",
      "\u001b[0;32m<ipython-input-7-773426553e31>\u001b[0m in \u001b[0;36mplay_game\u001b[0;34m(players, verbose)\u001b[0m\n\u001b[1;32m      2\u001b[0m     \u001b[0menv\u001b[0m\u001b[0;34m.\u001b[0m\u001b[0mreset\u001b[0m\u001b[0;34m(\u001b[0m\u001b[0;34m)\u001b[0m\u001b[0;34m\u001b[0m\u001b[0;34m\u001b[0m\u001b[0m\n\u001b[1;32m      3\u001b[0m     \u001b[0;32mwhile\u001b[0m \u001b[0;32mTrue\u001b[0m\u001b[0;34m:\u001b[0m\u001b[0;34m\u001b[0m\u001b[0;34m\u001b[0m\u001b[0m\n\u001b[0;32m----> 4\u001b[0;31m         \u001b[0maction\u001b[0m \u001b[0;34m=\u001b[0m \u001b[0mplayers\u001b[0m\u001b[0;34m[\u001b[0m\u001b[0menv\u001b[0m\u001b[0;34m.\u001b[0m\u001b[0mgame\u001b[0m\u001b[0;34m.\u001b[0m\u001b[0mplayer_idx\u001b[0m\u001b[0;34m]\u001b[0m\u001b[0;34m.\u001b[0m\u001b[0mact\u001b[0m\u001b[0;34m(\u001b[0m\u001b[0menv\u001b[0m\u001b[0;34m.\u001b[0m\u001b[0mgame\u001b[0m\u001b[0;34m,\u001b[0m \u001b[0menv\u001b[0m\u001b[0;34m.\u001b[0m\u001b[0mgame\u001b[0m\u001b[0;34m.\u001b[0m\u001b[0mboard_state\u001b[0m\u001b[0;34m)\u001b[0m\u001b[0;34m\u001b[0m\u001b[0;34m\u001b[0m\u001b[0m\n\u001b[0m\u001b[1;32m      5\u001b[0m         \u001b[0;32mif\u001b[0m \u001b[0mverbose\u001b[0m\u001b[0;34m:\u001b[0m\u001b[0;34m\u001b[0m\u001b[0;34m\u001b[0m\u001b[0m\n\u001b[1;32m      6\u001b[0m             \u001b[0mprint\u001b[0m\u001b[0;34m(\u001b[0m\u001b[0menv\u001b[0m\u001b[0;34m.\u001b[0m\u001b[0mgame\u001b[0m\u001b[0;34m.\u001b[0m\u001b[0mplayer_idx\u001b[0m\u001b[0;34m,\u001b[0m \u001b[0maction\u001b[0m\u001b[0;34m,\u001b[0m \u001b[0menv\u001b[0m\u001b[0;34m.\u001b[0m\u001b[0mgame\u001b[0m\u001b[0;34m.\u001b[0m\u001b[0mboard_state\u001b[0m\u001b[0;34m)\u001b[0m\u001b[0;34m\u001b[0m\u001b[0;34m\u001b[0m\u001b[0m\n",
      "\u001b[0;32m<ipython-input-1-d3c24dbe8a64>\u001b[0m in \u001b[0;36mact\u001b[0;34m(self, game, state_vec)\u001b[0m\n\u001b[1;32m     47\u001b[0m         \u001b[0mowner_col\u001b[0m \u001b[0;34m=\u001b[0m \u001b[0mvec_to_matrix\u001b[0m\u001b[0;34m(\u001b[0m\u001b[0mgame\u001b[0m\u001b[0;34m,\u001b[0m \u001b[0mstate_vec\u001b[0m\u001b[0;34m)\u001b[0m\u001b[0;34m[\u001b[0m\u001b[0;34m:\u001b[0m\u001b[0;34m,\u001b[0m \u001b[0;36m1\u001b[0m\u001b[0;34m]\u001b[0m\u001b[0;34m\u001b[0m\u001b[0;34m\u001b[0m\u001b[0m\n\u001b[1;32m     48\u001b[0m         \u001b[0mattack_from\u001b[0m \u001b[0;34m=\u001b[0m \u001b[0;34m(\u001b[0m\u001b[0mowner_col\u001b[0m \u001b[0;34m==\u001b[0m \u001b[0;36m1\u001b[0m\u001b[0;34m)\u001b[0m\u001b[0;34m.\u001b[0m\u001b[0margmax\u001b[0m\u001b[0;34m(\u001b[0m\u001b[0;34m)\u001b[0m\u001b[0;34m\u001b[0m\u001b[0;34m\u001b[0m\u001b[0m\n\u001b[0;32m---> 49\u001b[0;31m         \u001b[0mattack_to\u001b[0m \u001b[0;34m=\u001b[0m \u001b[0mself\u001b[0m\u001b[0;34m.\u001b[0m\u001b[0mget_action\u001b[0m\u001b[0;34m(\u001b[0m\u001b[0mtorch\u001b[0m\u001b[0;34m.\u001b[0m\u001b[0mas_tensor\u001b[0m\u001b[0;34m(\u001b[0m\u001b[0mstate_vec\u001b[0m\u001b[0;34m,\u001b[0m \u001b[0mdtype\u001b[0m\u001b[0;34m=\u001b[0m\u001b[0mtorch\u001b[0m\u001b[0;34m.\u001b[0m\u001b[0mfloat32\u001b[0m\u001b[0;34m)\u001b[0m\u001b[0;34m)\u001b[0m\u001b[0;34m\u001b[0m\u001b[0;34m\u001b[0m\u001b[0m\n\u001b[0m\u001b[1;32m     50\u001b[0m         \u001b[0;32mreturn\u001b[0m \u001b[0mattack_from\u001b[0m\u001b[0;34m,\u001b[0m \u001b[0mattack_to\u001b[0m\u001b[0;34m\u001b[0m\u001b[0;34m\u001b[0m\u001b[0m\n\u001b[1;32m     51\u001b[0m \u001b[0;34m\u001b[0m\u001b[0m\n",
      "\u001b[0;32m<ipython-input-1-d3c24dbe8a64>\u001b[0m in \u001b[0;36mget_action\u001b[0;34m(self, obs)\u001b[0m\n\u001b[1;32m     38\u001b[0m \u001b[0;34m\u001b[0m\u001b[0m\n\u001b[1;32m     39\u001b[0m     \u001b[0;32mdef\u001b[0m \u001b[0mget_action\u001b[0m\u001b[0;34m(\u001b[0m\u001b[0mself\u001b[0m\u001b[0;34m,\u001b[0m \u001b[0mobs\u001b[0m\u001b[0;34m)\u001b[0m\u001b[0;34m:\u001b[0m\u001b[0;34m\u001b[0m\u001b[0;34m\u001b[0m\u001b[0m\n\u001b[0;32m---> 40\u001b[0;31m         \u001b[0;32mreturn\u001b[0m \u001b[0mself\u001b[0m\u001b[0;34m.\u001b[0m\u001b[0mget_policy\u001b[0m\u001b[0;34m(\u001b[0m\u001b[0mobs\u001b[0m\u001b[0;34m)\u001b[0m\u001b[0;34m.\u001b[0m\u001b[0msample\u001b[0m\u001b[0;34m(\u001b[0m\u001b[0;34m)\u001b[0m\u001b[0;34m.\u001b[0m\u001b[0mitem\u001b[0m\u001b[0;34m(\u001b[0m\u001b[0;34m)\u001b[0m\u001b[0;34m\u001b[0m\u001b[0;34m\u001b[0m\u001b[0m\n\u001b[0m\u001b[1;32m     41\u001b[0m \u001b[0;34m\u001b[0m\u001b[0m\n\u001b[1;32m     42\u001b[0m     \u001b[0;32mdef\u001b[0m \u001b[0mcompute_loss\u001b[0m\u001b[0;34m(\u001b[0m\u001b[0mself\u001b[0m\u001b[0;34m,\u001b[0m \u001b[0mobs\u001b[0m\u001b[0;34m,\u001b[0m \u001b[0mact\u001b[0m\u001b[0;34m,\u001b[0m \u001b[0mweights\u001b[0m\u001b[0;34m)\u001b[0m\u001b[0;34m:\u001b[0m\u001b[0;34m\u001b[0m\u001b[0;34m\u001b[0m\u001b[0m\n",
      "\u001b[0;32m<ipython-input-1-d3c24dbe8a64>\u001b[0m in \u001b[0;36mget_policy\u001b[0;34m(self, obs)\u001b[0m\n\u001b[1;32m     34\u001b[0m \u001b[0;34m\u001b[0m\u001b[0m\n\u001b[1;32m     35\u001b[0m     \u001b[0;32mdef\u001b[0m \u001b[0mget_policy\u001b[0m\u001b[0;34m(\u001b[0m\u001b[0mself\u001b[0m\u001b[0;34m,\u001b[0m \u001b[0mobs\u001b[0m\u001b[0;34m)\u001b[0m\u001b[0;34m:\u001b[0m\u001b[0;34m\u001b[0m\u001b[0;34m\u001b[0m\u001b[0m\n\u001b[0;32m---> 36\u001b[0;31m         \u001b[0mlogits\u001b[0m \u001b[0;34m=\u001b[0m \u001b[0mself\u001b[0m\u001b[0;34m.\u001b[0m\u001b[0mlogits_net\u001b[0m\u001b[0;34m(\u001b[0m\u001b[0mobs\u001b[0m\u001b[0;34m)\u001b[0m\u001b[0;34m\u001b[0m\u001b[0;34m\u001b[0m\u001b[0m\n\u001b[0m\u001b[1;32m     37\u001b[0m         \u001b[0;32mreturn\u001b[0m \u001b[0mCategorical\u001b[0m\u001b[0;34m(\u001b[0m\u001b[0mlogits\u001b[0m\u001b[0;34m=\u001b[0m\u001b[0mlogits\u001b[0m\u001b[0;34m)\u001b[0m\u001b[0;34m\u001b[0m\u001b[0;34m\u001b[0m\u001b[0m\n\u001b[1;32m     38\u001b[0m \u001b[0;34m\u001b[0m\u001b[0m\n",
      "\u001b[0;32m~/.miniconda3/envs/rlrisk/lib/python3.9/site-packages/torch/nn/modules/module.py\u001b[0m in \u001b[0;36m_call_impl\u001b[0;34m(self, *input, **kwargs)\u001b[0m\n\u001b[1;32m    887\u001b[0m             \u001b[0mresult\u001b[0m \u001b[0;34m=\u001b[0m \u001b[0mself\u001b[0m\u001b[0;34m.\u001b[0m\u001b[0m_slow_forward\u001b[0m\u001b[0;34m(\u001b[0m\u001b[0;34m*\u001b[0m\u001b[0minput\u001b[0m\u001b[0;34m,\u001b[0m \u001b[0;34m**\u001b[0m\u001b[0mkwargs\u001b[0m\u001b[0;34m)\u001b[0m\u001b[0;34m\u001b[0m\u001b[0;34m\u001b[0m\u001b[0m\n\u001b[1;32m    888\u001b[0m         \u001b[0;32melse\u001b[0m\u001b[0;34m:\u001b[0m\u001b[0;34m\u001b[0m\u001b[0;34m\u001b[0m\u001b[0m\n\u001b[0;32m--> 889\u001b[0;31m             \u001b[0mresult\u001b[0m \u001b[0;34m=\u001b[0m \u001b[0mself\u001b[0m\u001b[0;34m.\u001b[0m\u001b[0mforward\u001b[0m\u001b[0;34m(\u001b[0m\u001b[0;34m*\u001b[0m\u001b[0minput\u001b[0m\u001b[0;34m,\u001b[0m \u001b[0;34m**\u001b[0m\u001b[0mkwargs\u001b[0m\u001b[0;34m)\u001b[0m\u001b[0;34m\u001b[0m\u001b[0;34m\u001b[0m\u001b[0m\n\u001b[0m\u001b[1;32m    890\u001b[0m         for hook in itertools.chain(\n\u001b[1;32m    891\u001b[0m                 \u001b[0m_global_forward_hooks\u001b[0m\u001b[0;34m.\u001b[0m\u001b[0mvalues\u001b[0m\u001b[0;34m(\u001b[0m\u001b[0;34m)\u001b[0m\u001b[0;34m,\u001b[0m\u001b[0;34m\u001b[0m\u001b[0;34m\u001b[0m\u001b[0m\n",
      "\u001b[0;32m~/.miniconda3/envs/rlrisk/lib/python3.9/site-packages/torch/nn/modules/container.py\u001b[0m in \u001b[0;36mforward\u001b[0;34m(self, input)\u001b[0m\n\u001b[1;32m    117\u001b[0m     \u001b[0;32mdef\u001b[0m \u001b[0mforward\u001b[0m\u001b[0;34m(\u001b[0m\u001b[0mself\u001b[0m\u001b[0;34m,\u001b[0m \u001b[0minput\u001b[0m\u001b[0;34m)\u001b[0m\u001b[0;34m:\u001b[0m\u001b[0;34m\u001b[0m\u001b[0;34m\u001b[0m\u001b[0m\n\u001b[1;32m    118\u001b[0m         \u001b[0;32mfor\u001b[0m \u001b[0mmodule\u001b[0m \u001b[0;32min\u001b[0m \u001b[0mself\u001b[0m\u001b[0;34m:\u001b[0m\u001b[0;34m\u001b[0m\u001b[0;34m\u001b[0m\u001b[0m\n\u001b[0;32m--> 119\u001b[0;31m             \u001b[0minput\u001b[0m \u001b[0;34m=\u001b[0m \u001b[0mmodule\u001b[0m\u001b[0;34m(\u001b[0m\u001b[0minput\u001b[0m\u001b[0;34m)\u001b[0m\u001b[0;34m\u001b[0m\u001b[0;34m\u001b[0m\u001b[0m\n\u001b[0m\u001b[1;32m    120\u001b[0m         \u001b[0;32mreturn\u001b[0m \u001b[0minput\u001b[0m\u001b[0;34m\u001b[0m\u001b[0;34m\u001b[0m\u001b[0m\n\u001b[1;32m    121\u001b[0m \u001b[0;34m\u001b[0m\u001b[0m\n",
      "\u001b[0;32m~/.miniconda3/envs/rlrisk/lib/python3.9/site-packages/torch/nn/modules/module.py\u001b[0m in \u001b[0;36m_call_impl\u001b[0;34m(self, *input, **kwargs)\u001b[0m\n\u001b[1;32m    887\u001b[0m             \u001b[0mresult\u001b[0m \u001b[0;34m=\u001b[0m \u001b[0mself\u001b[0m\u001b[0;34m.\u001b[0m\u001b[0m_slow_forward\u001b[0m\u001b[0;34m(\u001b[0m\u001b[0;34m*\u001b[0m\u001b[0minput\u001b[0m\u001b[0;34m,\u001b[0m \u001b[0;34m**\u001b[0m\u001b[0mkwargs\u001b[0m\u001b[0;34m)\u001b[0m\u001b[0;34m\u001b[0m\u001b[0;34m\u001b[0m\u001b[0m\n\u001b[1;32m    888\u001b[0m         \u001b[0;32melse\u001b[0m\u001b[0;34m:\u001b[0m\u001b[0;34m\u001b[0m\u001b[0;34m\u001b[0m\u001b[0m\n\u001b[0;32m--> 889\u001b[0;31m             \u001b[0mresult\u001b[0m \u001b[0;34m=\u001b[0m \u001b[0mself\u001b[0m\u001b[0;34m.\u001b[0m\u001b[0mforward\u001b[0m\u001b[0;34m(\u001b[0m\u001b[0;34m*\u001b[0m\u001b[0minput\u001b[0m\u001b[0;34m,\u001b[0m \u001b[0;34m**\u001b[0m\u001b[0mkwargs\u001b[0m\u001b[0;34m)\u001b[0m\u001b[0;34m\u001b[0m\u001b[0;34m\u001b[0m\u001b[0m\n\u001b[0m\u001b[1;32m    890\u001b[0m         for hook in itertools.chain(\n\u001b[1;32m    891\u001b[0m                 \u001b[0m_global_forward_hooks\u001b[0m\u001b[0;34m.\u001b[0m\u001b[0mvalues\u001b[0m\u001b[0;34m(\u001b[0m\u001b[0;34m)\u001b[0m\u001b[0;34m,\u001b[0m\u001b[0;34m\u001b[0m\u001b[0;34m\u001b[0m\u001b[0m\n",
      "\u001b[0;32m~/.miniconda3/envs/rlrisk/lib/python3.9/site-packages/torch/nn/modules/linear.py\u001b[0m in \u001b[0;36mforward\u001b[0;34m(self, input)\u001b[0m\n\u001b[1;32m     92\u001b[0m \u001b[0;34m\u001b[0m\u001b[0m\n\u001b[1;32m     93\u001b[0m     \u001b[0;32mdef\u001b[0m \u001b[0mforward\u001b[0m\u001b[0;34m(\u001b[0m\u001b[0mself\u001b[0m\u001b[0;34m,\u001b[0m \u001b[0minput\u001b[0m\u001b[0;34m:\u001b[0m \u001b[0mTensor\u001b[0m\u001b[0;34m)\u001b[0m \u001b[0;34m->\u001b[0m \u001b[0mTensor\u001b[0m\u001b[0;34m:\u001b[0m\u001b[0;34m\u001b[0m\u001b[0;34m\u001b[0m\u001b[0m\n\u001b[0;32m---> 94\u001b[0;31m         \u001b[0;32mreturn\u001b[0m \u001b[0mF\u001b[0m\u001b[0;34m.\u001b[0m\u001b[0mlinear\u001b[0m\u001b[0;34m(\u001b[0m\u001b[0minput\u001b[0m\u001b[0;34m,\u001b[0m \u001b[0mself\u001b[0m\u001b[0;34m.\u001b[0m\u001b[0mweight\u001b[0m\u001b[0;34m,\u001b[0m \u001b[0mself\u001b[0m\u001b[0;34m.\u001b[0m\u001b[0mbias\u001b[0m\u001b[0;34m)\u001b[0m\u001b[0;34m\u001b[0m\u001b[0;34m\u001b[0m\u001b[0m\n\u001b[0m\u001b[1;32m     95\u001b[0m \u001b[0;34m\u001b[0m\u001b[0m\n\u001b[1;32m     96\u001b[0m     \u001b[0;32mdef\u001b[0m \u001b[0mextra_repr\u001b[0m\u001b[0;34m(\u001b[0m\u001b[0mself\u001b[0m\u001b[0;34m)\u001b[0m \u001b[0;34m->\u001b[0m \u001b[0mstr\u001b[0m\u001b[0;34m:\u001b[0m\u001b[0;34m\u001b[0m\u001b[0;34m\u001b[0m\u001b[0m\n",
      "\u001b[0;32m~/.miniconda3/envs/rlrisk/lib/python3.9/site-packages/torch/nn/functional.py\u001b[0m in \u001b[0;36mlinear\u001b[0;34m(input, weight, bias)\u001b[0m\n\u001b[1;32m   1751\u001b[0m     \u001b[0;32mif\u001b[0m \u001b[0mhas_torch_function_variadic\u001b[0m\u001b[0;34m(\u001b[0m\u001b[0minput\u001b[0m\u001b[0;34m,\u001b[0m \u001b[0mweight\u001b[0m\u001b[0;34m)\u001b[0m\u001b[0;34m:\u001b[0m\u001b[0;34m\u001b[0m\u001b[0;34m\u001b[0m\u001b[0m\n\u001b[1;32m   1752\u001b[0m         \u001b[0;32mreturn\u001b[0m \u001b[0mhandle_torch_function\u001b[0m\u001b[0;34m(\u001b[0m\u001b[0mlinear\u001b[0m\u001b[0;34m,\u001b[0m \u001b[0;34m(\u001b[0m\u001b[0minput\u001b[0m\u001b[0;34m,\u001b[0m \u001b[0mweight\u001b[0m\u001b[0;34m)\u001b[0m\u001b[0;34m,\u001b[0m \u001b[0minput\u001b[0m\u001b[0;34m,\u001b[0m \u001b[0mweight\u001b[0m\u001b[0;34m,\u001b[0m \u001b[0mbias\u001b[0m\u001b[0;34m=\u001b[0m\u001b[0mbias\u001b[0m\u001b[0;34m)\u001b[0m\u001b[0;34m\u001b[0m\u001b[0;34m\u001b[0m\u001b[0m\n\u001b[0;32m-> 1753\u001b[0;31m     \u001b[0;32mreturn\u001b[0m \u001b[0mtorch\u001b[0m\u001b[0;34m.\u001b[0m\u001b[0m_C\u001b[0m\u001b[0;34m.\u001b[0m\u001b[0m_nn\u001b[0m\u001b[0;34m.\u001b[0m\u001b[0mlinear\u001b[0m\u001b[0;34m(\u001b[0m\u001b[0minput\u001b[0m\u001b[0;34m,\u001b[0m \u001b[0mweight\u001b[0m\u001b[0;34m,\u001b[0m \u001b[0mbias\u001b[0m\u001b[0;34m)\u001b[0m\u001b[0;34m\u001b[0m\u001b[0;34m\u001b[0m\u001b[0m\n\u001b[0m\u001b[1;32m   1754\u001b[0m \u001b[0;34m\u001b[0m\u001b[0m\n\u001b[1;32m   1755\u001b[0m \u001b[0;34m\u001b[0m\u001b[0m\n",
      "\u001b[0;31mKeyboardInterrupt\u001b[0m: "
     ]
    }
   ],
   "source": [
    "np.sum(faceoff(players, 500) == 0)"
   ]
  },
  {
   "cell_type": "code",
   "execution_count": 13,
   "id": "offshore-experience",
   "metadata": {},
   "outputs": [
    {
     "ename": "IndexError",
     "evalue": "list index out of range",
     "output_type": "error",
     "traceback": [
      "\u001b[0;31m---------------------------------------------------------------------------\u001b[0m",
      "\u001b[0;31mIndexError\u001b[0m                                Traceback (most recent call last)",
      "\u001b[0;32m<ipython-input-13-5eabdf025baf>\u001b[0m in \u001b[0;36m<module>\u001b[0;34m\u001b[0m\n\u001b[0;32m----> 1\u001b[0;31m \u001b[0mnp\u001b[0m\u001b[0;34m.\u001b[0m\u001b[0msum\u001b[0m\u001b[0;34m(\u001b[0m\u001b[0mfaceoff\u001b[0m\u001b[0;34m(\u001b[0m\u001b[0;34m[\u001b[0m\u001b[0mDumbPlayer\u001b[0m\u001b[0;34m(\u001b[0m\u001b[0;34m)\u001b[0m\u001b[0;34m,\u001b[0m \u001b[0mDumbPlayer\u001b[0m\u001b[0;34m(\u001b[0m\u001b[0;34m)\u001b[0m\u001b[0;34m]\u001b[0m\u001b[0;34m,\u001b[0m \u001b[0;36m500\u001b[0m\u001b[0;34m)\u001b[0m \u001b[0;34m==\u001b[0m \u001b[0;36m0\u001b[0m\u001b[0;34m)\u001b[0m\u001b[0;34m\u001b[0m\u001b[0;34m\u001b[0m\u001b[0m\n\u001b[0m",
      "\u001b[0;32m<ipython-input-12-8d2ba629db36>\u001b[0m in \u001b[0;36mfaceoff\u001b[0;34m(players, n_games)\u001b[0m\n\u001b[1;32m     16\u001b[0m     \u001b[0mwinners\u001b[0m \u001b[0;34m=\u001b[0m \u001b[0mnp\u001b[0m\u001b[0;34m.\u001b[0m\u001b[0mempty\u001b[0m\u001b[0;34m(\u001b[0m\u001b[0mn_games\u001b[0m\u001b[0;34m,\u001b[0m \u001b[0mdtype\u001b[0m \u001b[0;34m=\u001b[0m \u001b[0mnp\u001b[0m\u001b[0;34m.\u001b[0m\u001b[0mint32\u001b[0m\u001b[0;34m)\u001b[0m\u001b[0;34m\u001b[0m\u001b[0;34m\u001b[0m\u001b[0m\n\u001b[1;32m     17\u001b[0m     \u001b[0;32mfor\u001b[0m \u001b[0mi\u001b[0m \u001b[0;32min\u001b[0m \u001b[0mrange\u001b[0m\u001b[0;34m(\u001b[0m\u001b[0mn_games\u001b[0m\u001b[0;34m)\u001b[0m\u001b[0;34m:\u001b[0m\u001b[0;34m\u001b[0m\u001b[0;34m\u001b[0m\u001b[0m\n\u001b[0;32m---> 18\u001b[0;31m         \u001b[0mwinners\u001b[0m\u001b[0;34m[\u001b[0m\u001b[0mi\u001b[0m\u001b[0;34m]\u001b[0m \u001b[0;34m=\u001b[0m \u001b[0mplay_game\u001b[0m\u001b[0;34m(\u001b[0m\u001b[0mplayers\u001b[0m\u001b[0;34m)\u001b[0m\u001b[0;34m\u001b[0m\u001b[0;34m\u001b[0m\u001b[0m\n\u001b[0m\u001b[1;32m     19\u001b[0m     \u001b[0;32mreturn\u001b[0m \u001b[0mwinners\u001b[0m\u001b[0;34m\u001b[0m\u001b[0;34m\u001b[0m\u001b[0m\n",
      "\u001b[0;32m<ipython-input-12-8d2ba629db36>\u001b[0m in \u001b[0;36mplay_game\u001b[0;34m(players, verbose, max_turns)\u001b[0m\n\u001b[1;32m      2\u001b[0m     \u001b[0menv\u001b[0m\u001b[0;34m.\u001b[0m\u001b[0mreset\u001b[0m\u001b[0;34m(\u001b[0m\u001b[0;34m)\u001b[0m\u001b[0;34m\u001b[0m\u001b[0;34m\u001b[0m\u001b[0m\n\u001b[1;32m      3\u001b[0m     \u001b[0;32mwhile\u001b[0m \u001b[0;32mTrue\u001b[0m\u001b[0;34m:\u001b[0m\u001b[0;34m\u001b[0m\u001b[0;34m\u001b[0m\u001b[0m\n\u001b[0;32m----> 4\u001b[0;31m         \u001b[0maction\u001b[0m \u001b[0;34m=\u001b[0m \u001b[0mplayers\u001b[0m\u001b[0;34m[\u001b[0m\u001b[0menv\u001b[0m\u001b[0;34m.\u001b[0m\u001b[0mgame\u001b[0m\u001b[0;34m.\u001b[0m\u001b[0mplayer_idx\u001b[0m\u001b[0;34m]\u001b[0m\u001b[0;34m.\u001b[0m\u001b[0mact\u001b[0m\u001b[0;34m(\u001b[0m\u001b[0menv\u001b[0m\u001b[0;34m.\u001b[0m\u001b[0mgame\u001b[0m\u001b[0;34m,\u001b[0m \u001b[0menv\u001b[0m\u001b[0;34m.\u001b[0m\u001b[0mgame\u001b[0m\u001b[0;34m.\u001b[0m\u001b[0mboard_state\u001b[0m\u001b[0;34m)\u001b[0m\u001b[0;34m\u001b[0m\u001b[0;34m\u001b[0m\u001b[0m\n\u001b[0m\u001b[1;32m      5\u001b[0m         \u001b[0;32mif\u001b[0m \u001b[0mverbose\u001b[0m\u001b[0;34m:\u001b[0m\u001b[0;34m\u001b[0m\u001b[0;34m\u001b[0m\u001b[0m\n\u001b[1;32m      6\u001b[0m             \u001b[0mprint\u001b[0m\u001b[0;34m(\u001b[0m\u001b[0menv\u001b[0m\u001b[0;34m.\u001b[0m\u001b[0mgame\u001b[0m\u001b[0;34m.\u001b[0m\u001b[0mturn_idx\u001b[0m\u001b[0;34m,\u001b[0m \u001b[0menv\u001b[0m\u001b[0;34m.\u001b[0m\u001b[0mgame\u001b[0m\u001b[0;34m.\u001b[0m\u001b[0mplayer_idx\u001b[0m\u001b[0;34m,\u001b[0m \u001b[0menv\u001b[0m\u001b[0;34m.\u001b[0m\u001b[0mgame\u001b[0m\u001b[0;34m.\u001b[0m\u001b[0mphase\u001b[0m\u001b[0;34m,\u001b[0m \u001b[0maction\u001b[0m\u001b[0;34m,\u001b[0m \u001b[0menv\u001b[0m\u001b[0;34m.\u001b[0m\u001b[0mgame\u001b[0m\u001b[0;34m.\u001b[0m\u001b[0mboard_state\u001b[0m\u001b[0;34m)\u001b[0m\u001b[0;34m\u001b[0m\u001b[0;34m\u001b[0m\u001b[0m\n",
      "\u001b[0;31mIndexError\u001b[0m: list index out of range"
     ]
    }
   ],
   "source": [
    "np.sum(faceoff([DumbPlayer(), DumbPlayer()], 500) == 0)"
   ]
  },
  {
   "cell_type": "code",
   "execution_count": 8,
   "id": "stopped-wichita",
   "metadata": {},
   "outputs": [
    {
     "name": "stdout",
     "output_type": "stream",
     "text": [
      "0 0 1 (0, 1) [7. 1. 0. 0. 6. 0. 1. 0. 6. 0. 0. 1.]\n",
      "0 1 1 (1, 0) [7. 1. 0. 0. 5. 0. 1. 0. 6. 0. 0. 1.]\n",
      "0 2 1 (2, 0) [7. 1. 0. 0. 3. 0. 1. 0. 7. 0. 0. 1.]\n",
      "1 0 1 (0, 1) [7. 1. 0. 0. 3. 0. 1. 0. 6. 0. 0. 1.]\n",
      "1 1 1 (1, 0) [6. 1. 0. 0. 3. 0. 1. 0. 6. 0. 0. 1.]\n",
      "1 2 1 (2, 0) [6. 1. 0. 0. 1. 0. 1. 0. 7. 0. 0. 1.]\n",
      "2 0 1 (0, 2) [5. 1. 0. 0. 1. 0. 1. 0. 7. 0. 0. 1.]\n",
      "2 1 1 (1, 0) [3. 1. 0. 0. 2. 0. 1. 0. 7. 0. 0. 1.]\n",
      "2 2 1 (2, 0) [3. 1. 0. 0. 1. 0. 1. 0. 8. 0. 0. 1.]\n",
      "3 0 1 (0, 0) [3. 1. 0. 0. 1. 0. 1. 0. 7. 0. 0. 1.]\n",
      "3 1 1 (1, 0) [3. 1. 0. 0. 2. 0. 1. 0. 7. 0. 0. 1.]\n",
      "3 2 1 (2, 0) [3. 1. 0. 0. 1. 0. 1. 0. 8. 0. 0. 1.]\n",
      "4 0 1 (0, 0) [2. 1. 0. 0. 1. 0. 1. 0. 8. 0. 0. 1.]\n",
      "4 1 1 (1, 0) [2. 1. 0. 0. 2. 0. 1. 0. 8. 0. 0. 1.]\n",
      "4 2 1 (2, 0) [2. 1. 0. 0. 1. 0. 1. 0. 9. 0. 0. 1.]\n",
      "5 1 1 (1, 0) [8. 0. 0. 1. 2. 0. 1. 0. 1. 0. 0. 1.]\n",
      "5 2 1 (0, 1) [9. 0. 0. 1. 1. 0. 1. 0. 1. 0. 0. 1.]\n"
     ]
    },
    {
     "name": "stderr",
     "output_type": "stream",
     "text": [
      "<ipython-input-1-d3c24dbe8a64>:49: UserWarning: The given NumPy array is not writeable, and PyTorch does not support non-writeable tensors. This means you can write to the underlying (supposedly non-writeable) NumPy array using the tensor. You may want to copy the array to protect its data or make it writeable before converting it to a tensor. This type of warning will be suppressed for the rest of this program. (Triggered internally at  /opt/conda/conda-bld/pytorch_1614378073166/work/torch/csrc/utils/tensor_numpy.cpp:143.)\n",
      "  attack_to = self.get_action(torch.as_tensor(state_vec, dtype=torch.float32))\n"
     ]
    },
    {
     "data": {
      "text/plain": [
       "2"
      ]
     },
     "execution_count": 8,
     "metadata": {},
     "output_type": "execute_result"
    }
   ],
   "source": [
    "play_game(players, verbose=True, max_turns=10)"
   ]
  },
  {
   "cell_type": "code",
   "execution_count": null,
   "id": "geographic-authentication",
   "metadata": {},
   "outputs": [],
   "source": []
  }
 ],
 "metadata": {
  "kernelspec": {
   "display_name": "Python 3",
   "language": "python",
   "name": "python3"
  },
  "language_info": {
   "codemirror_mode": {
    "name": "ipython",
    "version": 3
   },
   "file_extension": ".py",
   "mimetype": "text/x-python",
   "name": "python",
   "nbconvert_exporter": "python",
   "pygments_lexer": "ipython3",
   "version": "3.9.2"
  }
 },
 "nbformat": 4,
 "nbformat_minor": 5
}
