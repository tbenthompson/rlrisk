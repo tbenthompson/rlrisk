{
 "cells": [
  {
   "cell_type": "code",
   "execution_count": 1,
   "id": "located-lincoln",
   "metadata": {},
   "outputs": [],
   "source": [
    "%load_ext line_profiler"
   ]
  },
  {
   "cell_type": "code",
   "execution_count": 2,
   "id": "productive-vampire",
   "metadata": {},
   "outputs": [],
   "source": [
    "import env\n",
    "import vpg"
   ]
  },
  {
   "cell_type": "code",
   "execution_count": 3,
   "id": "alleged-muslim",
   "metadata": {},
   "outputs": [],
   "source": [
    "game_spec = dict(\n",
    "    n_players=3,\n",
    "    n_territories=8,\n",
    "    baseline_reinforcements=3,\n",
    "    n_attacks_per_turn=10,\n",
    ")"
   ]
  },
  {
   "cell_type": "code",
   "execution_count": 7,
   "id": "infectious-empire",
   "metadata": {},
   "outputs": [],
   "source": [
    "players = [vpg.VPGPlayer()] + [env.DumbPlayer() for i in range(game_spec['n_players'] - 1)]\n",
    "#players = [env.DumbPlayer()] + [env.DumbPlayer() for i in range(game_spec['n_players'] - 1)]\n",
    "nn_player_idx = 0"
   ]
  },
  {
   "cell_type": "code",
   "execution_count": 8,
   "id": "several-administration",
   "metadata": {},
   "outputs": [
    {
     "name": "stdout",
     "output_type": "stream",
     "text": [
      "CPU times: user 14.9 s, sys: 773 ms, total: 15.7 s\n",
      "Wall time: 2.62 s\n"
     ]
    }
   ],
   "source": [
    "%%time\n",
    "winners, states = env.play_games(game_spec, players, np.arange(1000))"
   ]
  },
  {
   "cell_type": "code",
   "execution_count": 9,
   "id": "joint-joining",
   "metadata": {},
   "outputs": [],
   "source": [
    "#%lprun -f play_games -f act -f act_dumb play_games(env, players, 250)"
   ]
  },
  {
   "cell_type": "code",
   "execution_count": 10,
   "id": "parallel-liechtenstein",
   "metadata": {},
   "outputs": [
    {
     "name": "stdout",
     "output_type": "stream",
     "text": [
      "\n",
      "  _     ._   __/__   _ _  _  _ _/_   Recorded: 01:31:21  Samples:  3240\n",
      " /_//_/// /_\\ / //_// / //_'/ //     Duration: 3.305     CPU time: 19.817\n",
      "/   _/                      v3.4.1\n",
      "\n",
      "Program: /home/tbent/.miniconda3/envs/rlrisk/lib/python3.9/site-packages/ipykernel_launcher.py -f /home/tbent/.local/share/jupyter/runtime/kernel-948caa3d-9119-4b9d-a4a7-2469db6d47c6.json\n",
      "\n",
      "\u001b[31m3.305\u001b[0m run_code\u001b[0m  \u001b[2mIPython/core/interactiveshell.py:3396\u001b[0m\n",
      "└─ \u001b[31m3.305\u001b[0m \u001b[48;5;24m\u001b[38;5;15m<module>\u001b[0m  \u001b[2m<ipython-input-10-0c8444a4b20e>:5\u001b[0m\n",
      "   └─ \u001b[31m3.305\u001b[0m \u001b[48;5;24m\u001b[38;5;15mplay_games\u001b[0m  \u001b[2menv.py:45\u001b[0m\n",
      "      ├─ \u001b[31m2.340\u001b[0m \u001b[48;5;24m\u001b[38;5;15mact\u001b[0m  \u001b[2mvpg.py:67\u001b[0m\n",
      "      │  ├─ \u001b[31m2.136\u001b[0m \u001b[48;5;24m\u001b[38;5;15mget_action\u001b[0m  \u001b[2mvpg.py:60\u001b[0m\n",
      "      │  │  ├─ \u001b[33m1.674\u001b[0m \u001b[48;5;24m\u001b[38;5;15mget_policy\u001b[0m  \u001b[2mvpg.py:56\u001b[0m\n",
      "      │  │  │  ├─ \u001b[33m0.846\u001b[0m __init__\u001b[0m  \u001b[2mtorch/distributions/categorical.py:49\u001b[0m\n",
      "      │  │  │  │     [27 frames hidden]  \u001b[2mtorch, <built-in>\u001b[0m\n",
      "      │  │  │  └─ \u001b[33m0.820\u001b[0m _call_impl\u001b[0m  \u001b[2mtorch/nn/modules/module.py:866\u001b[0m\n",
      "      │  │  │        [32 frames hidden]  \u001b[2mtorch, <built-in>\u001b[0m\n",
      "      │  │  └─ \u001b[32m0.426\u001b[0m sample\u001b[0m  \u001b[2mtorch/distributions/categorical.py:108\u001b[0m\n",
      "      │  │        [32 frames hidden]  \u001b[2mtorch, <built-in>\u001b[0m\n",
      "      │  ├─ \u001b[92m\u001b[2m0.083\u001b[0m _VariableFunctionsClass.as_tensor\u001b[0m  \u001b[2m<built-in>:0\u001b[0m\n",
      "      │  │     [2 frames hidden]  \u001b[2m<built-in>\u001b[0m\n",
      "      │  └─ \u001b[92m\u001b[2m0.075\u001b[0m [self]\u001b[0m  \u001b[2m\u001b[0m\n",
      "      ├─ \u001b[32m0.372\u001b[0m [self]\u001b[0m  \u001b[2m\u001b[0m\n",
      "      ├─ \u001b[32m0.224\u001b[0m \u001b[48;5;24m\u001b[38;5;15mact\u001b[0m  \u001b[2menv.py:77\u001b[0m\n",
      "      │  ├─ \u001b[92m\u001b[2m0.143\u001b[0m [self]\u001b[0m  \u001b[2m\u001b[0m\n",
      "      │  └─ \u001b[92m\u001b[2m0.042\u001b[0m ndarray.argmax\u001b[0m  \u001b[2m<built-in>:0\u001b[0m\n",
      "      │        [2 frames hidden]  \u001b[2m<built-in>\u001b[0m\n",
      "      ├─ \u001b[32m0.199\u001b[0m GameSet.get_idxs_states\u001b[0m  \u001b[2m<built-in>:0\u001b[0m\n",
      "      │     [2 frames hidden]  \u001b[2m<built-in>\u001b[0m\n",
      "      └─ \u001b[92m\u001b[2m0.141\u001b[0m GameSet.step\u001b[0m  \u001b[2m<built-in>:0\u001b[0m\n",
      "            [2 frames hidden]  \u001b[2m<built-in>\u001b[0m\n",
      "\n",
      "\n"
     ]
    }
   ],
   "source": [
    "from pyinstrument import Profiler\n",
    "profiler = Profiler()\n",
    "profiler.start()\n",
    "\n",
    "winners, states = env.play_games(game_spec, players, np.arange(1000))\n",
    "\n",
    "profiler.stop()\n",
    "print(profiler.output_text(unicode=True, color=True))"
   ]
  }
 ],
 "metadata": {
  "kernelspec": {
   "display_name": "Python 3",
   "language": "python",
   "name": "python3"
  },
  "language_info": {
   "codemirror_mode": {
    "name": "ipython",
    "version": 3
   },
   "file_extension": ".py",
   "mimetype": "text/x-python",
   "name": "python",
   "nbconvert_exporter": "python",
   "pygments_lexer": "ipython3",
   "version": "3.9.2"
  }
 },
 "nbformat": 4,
 "nbformat_minor": 5
}
