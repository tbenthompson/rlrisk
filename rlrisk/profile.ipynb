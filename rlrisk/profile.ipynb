{
 "cells": [
  {
   "cell_type": "code",
   "execution_count": 2,
   "id": "alpine-check",
   "metadata": {},
   "outputs": [],
   "source": [
    "import time\n",
    "import copy\n",
    "\n",
    "import pyinstrument\n",
    "import numpy as np\n",
    "\n",
    "from env import Env, DumbPlayer\n",
    "from vpg import VPGPlayer, train"
   ]
  },
  {
   "cell_type": "code",
   "execution_count": 3,
   "id": "reflected-capital",
   "metadata": {},
   "outputs": [],
   "source": [
    "game_spec = dict(\n",
    "    n_players=3,\n",
    "    n_territories=8,\n",
    "    baseline_reinforcements=3,\n",
    "    n_attacks_per_turn=10,\n",
    ")"
   ]
  },
  {
   "cell_type": "code",
   "execution_count": 7,
   "id": "incorrect-virus",
   "metadata": {},
   "outputs": [],
   "source": [
    "env = Env(game_spec)\n",
    "players = [DumbPlayer()] + [DumbPlayer() for i in range(game_spec['n_players'])]\n",
    "nn_player_idx = 0"
   ]
  },
  {
   "cell_type": "code",
   "execution_count": 8,
   "id": "treated-moore",
   "metadata": {},
   "outputs": [
    {
     "name": "stdout",
     "output_type": "stream",
     "text": [
      "\n",
      "  _     ._   __/__   _ _  _  _ _/_   Recorded: 18:49:24  Samples:  204\n",
      " /_//_/// /_\\ / //_// / //_'/ //     Duration: 0.205     CPU time: 0.267\n",
      "/   _/                      v3.4.1\n",
      "\n",
      "Program: /home/tbent/.miniconda3/envs/rlrisk/lib/python3.9/site-packages/ipykernel_launcher.py -f /home/tbent/.local/share/jupyter/runtime/kernel-948caa3d-9119-4b9d-a4a7-2469db6d47c6.json\n",
      "\n",
      "\u001b[31m0.204\u001b[0m run_code\u001b[0m  \u001b[2mIPython/core/interactiveshell.py:3396\u001b[0m\n",
      "└─ \u001b[31m0.204\u001b[0m \u001b[48;5;24m\u001b[38;5;15m<module>\u001b[0m  \u001b[2m<ipython-input-8-bb41870f5244>:5\u001b[0m\n",
      "   └─ \u001b[31m0.204\u001b[0m \u001b[48;5;24m\u001b[38;5;15mfaceoff\u001b[0m  \u001b[2menv.py:67\u001b[0m\n",
      "      └─ \u001b[31m0.204\u001b[0m \u001b[48;5;24m\u001b[38;5;15mplay_game\u001b[0m  \u001b[2menv.py:74\u001b[0m\n",
      "         ├─ \u001b[31m0.151\u001b[0m \u001b[48;5;24m\u001b[38;5;15mact\u001b[0m  \u001b[2menv.py:96\u001b[0m\n",
      "         │  ├─ \u001b[33m0.070\u001b[0m [self]\u001b[0m  \u001b[2m\u001b[0m\n",
      "         │  ├─ \u001b[33m0.056\u001b[0m ndarray.argmax\u001b[0m  \u001b[2m<built-in>:0\u001b[0m\n",
      "         │  │     [2 frames hidden]  \u001b[2m<built-in>\u001b[0m\n",
      "         │  └─ \u001b[32m0.025\u001b[0m \u001b[48;5;24m\u001b[38;5;15mvec_to_territory_matrix\u001b[0m  \u001b[2menv.py:8\u001b[0m\n",
      "         │     ├─ \u001b[32m0.016\u001b[0m [self]\u001b[0m  \u001b[2m\u001b[0m\n",
      "         │     └─ \u001b[92m\u001b[2m0.009\u001b[0m ndarray.reshape\u001b[0m  \u001b[2m<built-in>:0\u001b[0m\n",
      "         │           [2 frames hidden]  \u001b[2m<built-in>\u001b[0m\n",
      "         ├─ \u001b[32m0.027\u001b[0m [self]\u001b[0m  \u001b[2m\u001b[0m\n",
      "         └─ \u001b[32m0.026\u001b[0m \u001b[48;5;24m\u001b[38;5;15mstep\u001b[0m  \u001b[2menv.py:56\u001b[0m\n",
      "            ├─ \u001b[32m0.018\u001b[0m [self]\u001b[0m  \u001b[2m\u001b[0m\n",
      "            └─ \u001b[92m\u001b[2m0.008\u001b[0m GameState.step\u001b[0m  \u001b[2m<built-in>:0\u001b[0m\n",
      "                  [2 frames hidden]  \u001b[2m<built-in>\u001b[0m\n",
      "\n",
      "\n"
     ]
    }
   ],
   "source": [
    "from pyinstrument import Profiler\n",
    "profiler = Profiler()\n",
    "profiler.start()\n",
    "\n",
    "env.faceoff(players, 10)\n",
    "\n",
    "profiler.stop()\n",
    "print(profiler.output_text(unicode=True, color=True))"
   ]
  },
  {
   "cell_type": "code",
   "execution_count": null,
   "id": "removable-qatar",
   "metadata": {},
   "outputs": [],
   "source": []
  }
 ],
 "metadata": {
  "kernelspec": {
   "display_name": "Python 3",
   "language": "python",
   "name": "python3"
  },
  "language_info": {
   "codemirror_mode": {
    "name": "ipython",
    "version": 3
   },
   "file_extension": ".py",
   "mimetype": "text/x-python",
   "name": "python",
   "nbconvert_exporter": "python",
   "pygments_lexer": "ipython3",
   "version": "3.9.2"
  }
 },
 "nbformat": 4,
 "nbformat_minor": 5
}
