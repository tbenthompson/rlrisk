{
 "cells": [
  {
   "cell_type": "code",
   "execution_count": 1,
   "id": "brave-musician",
   "metadata": {},
   "outputs": [],
   "source": [
    "import time\n",
    "import copy\n",
    "\n",
    "import numpy as np\n",
    "\n",
    "import env\n",
    "import vpg"
   ]
  },
  {
   "cell_type": "code",
   "execution_count": 2,
   "id": "cooked-plastic",
   "metadata": {},
   "outputs": [],
   "source": [
    "game_spec = dict(\n",
    "    n_players=2,\n",
    "    n_territories=3,\n",
    "    baseline_reinforcements=1,\n",
    "    n_attacks_per_turn=1,\n",
    ")"
   ]
  },
  {
   "cell_type": "code",
   "execution_count": 6,
   "id": "imperial-direction",
   "metadata": {},
   "outputs": [],
   "source": [
    "players = [vpg.VPGPlayer(0.005)] + [env.DumbPlayer() for i in range(game_spec['n_players'] - 1)]\n",
    "nn_player_idx = 0"
   ]
  },
  {
   "cell_type": "code",
   "execution_count": 4,
   "id": "viral-literature",
   "metadata": {},
   "outputs": [
    {
     "name": "stderr",
     "output_type": "stream",
     "text": [
      "/home/tbent/.miniconda3/envs/rlrisk/lib/python3.9/site-packages/torch/autograd/__init__.py:145: UserWarning: CUDA initialization: CUDA unknown error - this may be due to an incorrectly set up environment, e.g. changing env variable CUDA_VISIBLE_DEVICES after program start. Setting the available devices to be zero. (Triggered internally at  /opt/conda/conda-bld/pytorch_1614378073166/work/c10/cuda/CUDAFunctions.cpp:109.)\n",
      "  Variable._execution_engine.run_backward(\n"
     ]
    }
   ],
   "source": [
    "out = vpg.train_one_epoch(game_spec, players, 1)"
   ]
  },
  {
   "cell_type": "code",
   "execution_count": 5,
   "id": "graduate-automation",
   "metadata": {},
   "outputs": [
    {
     "data": {
      "text/plain": [
       "[3, 5]"
      ]
     },
     "execution_count": 5,
     "metadata": {},
     "output_type": "execute_result"
    }
   ],
   "source": [
    "out[3][0].actions[:2]"
   ]
  },
  {
   "cell_type": "code",
   "execution_count": 6,
   "id": "organized-saudi",
   "metadata": {},
   "outputs": [
    {
     "data": {
      "text/plain": [
       "[array([1., 0., 0., 6., 0., 1., 0., 5., 1., 0., 0., 2., 1., 0., 0., 0., 0., 0., 0., 0., 0., 0., 0., 0., 0., 0., 0., 0., 0., 0., 0., 0., 0., 0., 0.], dtype=float32),\n",
       " array([1., 0., 0., 5., 0., 1., 0., 6., 1., 0., 0., 2., 1., 0., 0., 0., 0., 0., 0., 0., 0., 0., 0., 0., 0., 0., 0., 0., 0., 0., 0., 0., 0., 0., 0.], dtype=float32)]"
      ]
     },
     "execution_count": 6,
     "metadata": {},
     "output_type": "execute_result"
    }
   ],
   "source": [
    "out[3][0].obs[:2]"
   ]
  },
  {
   "cell_type": "code",
   "execution_count": 7,
   "id": "continued-korean",
   "metadata": {},
   "outputs": [
    {
     "data": {
      "text/plain": [
       "37"
      ]
     },
     "execution_count": 7,
     "metadata": {},
     "output_type": "execute_result"
    }
   ],
   "source": [
    "len(out[3][0].obs)"
   ]
  },
  {
   "cell_type": "code",
   "execution_count": 8,
   "id": "settled-prescription",
   "metadata": {},
   "outputs": [
    {
     "data": {
      "text/plain": [
       "[1.0, 1.0]"
      ]
     },
     "execution_count": 8,
     "metadata": {},
     "output_type": "execute_result"
    }
   ],
   "source": [
    "out[3][0].weights[:2]"
   ]
  },
  {
   "cell_type": "code",
   "execution_count": 9,
   "id": "revolutionary-specific",
   "metadata": {},
   "outputs": [
    {
     "data": {
      "text/plain": [
       "[1.0]"
      ]
     },
     "execution_count": 9,
     "metadata": {},
     "output_type": "execute_result"
    }
   ],
   "source": [
    "out[3][0].returns"
   ]
  },
  {
   "cell_type": "code",
   "execution_count": 7,
   "id": "completed-producer",
   "metadata": {},
   "outputs": [
    {
     "name": "stdout",
     "output_type": "stream",
     "text": [
      "epoch: 0, player: 0, loss: 0.890 return: 0.500 ep_len: 39.540  n_games: 50\n",
      "epoch: 1, player: 0, loss: 0.893 return: 0.520 ep_len: 37.880  n_games: 50\n",
      "epoch: 2, player: 0, loss: 0.930 return: 0.580 ep_len: 39.860  n_games: 50\n",
      "epoch: 3, player: 0, loss: 0.846 return: 0.480 ep_len: 33.820  n_games: 50\n",
      "epoch: 4, player: 0, loss: 0.815 return: 0.440 ep_len: 34.220  n_games: 50\n",
      "epoch: 5, player: 0, loss: 0.927 return: 0.500 ep_len: 66.140  n_games: 50\n",
      "epoch: 6, player: 0, loss: 0.856 return: 0.460 ep_len: 52.040  n_games: 50\n",
      "epoch: 7, player: 0, loss: 0.859 return: 0.500 ep_len: 50.000  n_games: 50\n",
      "epoch: 8, player: 0, loss: 0.904 return: 0.520 ep_len: 74.960  n_games: 50\n",
      "epoch: 9, player: 0, loss: 0.832 return: 0.560 ep_len: 42.800  n_games: 50\n",
      "epoch: 10, player: 0, loss: 0.931 return: 0.440 ep_len: 115.740  n_games: 50\n",
      "epoch: 11, player: 0, loss: 0.845 return: 0.360 ep_len: 54.440  n_games: 50\n",
      "epoch: 12, player: 0, loss: 0.891 return: 0.520 ep_len: 56.660  n_games: 50\n",
      "epoch: 13, player: 0, loss: 0.816 return: 0.440 ep_len: 42.420  n_games: 50\n",
      "epoch: 14, player: 0, loss: 0.907 return: 0.580 ep_len: 61.720  n_games: 50\n",
      "epoch: 15, player: 0, loss: 0.823 return: 0.440 ep_len: 42.020  n_games: 50\n",
      "epoch: 16, player: 0, loss: 0.886 return: 0.440 ep_len: 81.380  n_games: 50\n",
      "epoch: 17, player: 0, loss: 0.788 return: 0.500 ep_len: 33.220  n_games: 50\n",
      "epoch: 18, player: 0, loss: 0.813 return: 0.440 ep_len: 41.060  n_games: 50\n",
      "epoch: 19, player: 0, loss: 0.886 return: 0.620 ep_len: 71.260  n_games: 50\n",
      "epoch: 20, player: 0, loss: 0.857 return: 0.520 ep_len: 60.280  n_games: 50\n",
      "epoch: 21, player: 0, loss: 0.793 return: 0.560 ep_len: 41.220  n_games: 50\n",
      "epoch: 22, player: 0, loss: 0.875 return: 0.580 ep_len: 75.660  n_games: 50\n",
      "epoch: 23, player: 0, loss: 0.778 return: 0.560 ep_len: 32.980  n_games: 50\n",
      "epoch: 24, player: 0, loss: 0.876 return: 0.440 ep_len: 60.960  n_games: 50\n",
      "epoch: 25, player: 0, loss: 0.836 return: 0.580 ep_len: 52.320  n_games: 50\n",
      "epoch: 26, player: 0, loss: 0.799 return: 0.460 ep_len: 59.120  n_games: 50\n",
      "epoch: 27, player: 0, loss: 0.896 return: 0.560 ep_len: 94.060  n_games: 50\n",
      "epoch: 28, player: 0, loss: 0.858 return: 0.580 ep_len: 69.960  n_games: 50\n",
      "epoch: 29, player: 0, loss: 0.827 return: 0.540 ep_len: 52.480  n_games: 50\n",
      "epoch: 30, player: 0, loss: 0.802 return: 0.580 ep_len: 44.240  n_games: 50\n",
      "epoch: 31, player: 0, loss: 0.728 return: 0.420 ep_len: 31.840  n_games: 50\n",
      "epoch: 32, player: 0, loss: 0.823 return: 0.380 ep_len: 75.940  n_games: 50\n",
      "epoch: 33, player: 0, loss: 0.816 return: 0.560 ep_len: 47.900  n_games: 50\n",
      "epoch: 34, player: 0, loss: 0.742 return: 0.360 ep_len: 38.200  n_games: 50\n",
      "epoch: 35, player: 0, loss: 0.843 return: 0.460 ep_len: 85.580  n_games: 50\n",
      "epoch: 36, player: 0, loss: 0.730 return: 0.400 ep_len: 32.720  n_games: 50\n",
      "epoch: 37, player: 0, loss: 0.799 return: 0.500 ep_len: 51.240  n_games: 50\n",
      "epoch: 38, player: 0, loss: 0.855 return: 0.600 ep_len: 79.740  n_games: 50\n",
      "epoch: 39, player: 0, loss: 0.750 return: 0.520 ep_len: 43.280  n_games: 50\n",
      "epoch: 40, player: 0, loss: 0.677 return: 0.420 ep_len: 26.060  n_games: 50\n",
      "epoch: 41, player: 0, loss: 0.870 return: 0.540 ep_len: 288.780  n_games: 50\n",
      "epoch: 42, player: 0, loss: 0.871 return: 0.520 ep_len: 97.980  n_games: 50\n",
      "epoch: 43, player: 0, loss: 0.857 return: 0.520 ep_len: 158.600  n_games: 50\n",
      "epoch: 44, player: 0, loss: 0.888 return: 0.460 ep_len: 94.860  n_games: 50\n",
      "epoch: 45, player: 0, loss: 0.801 return: 0.580 ep_len: 32.980  n_games: 50\n",
      "epoch: 46, player: 0, loss: 0.756 return: 0.480 ep_len: 36.620  n_games: 50\n",
      "epoch: 47, player: 0, loss: 0.877 return: 0.420 ep_len: 76.820  n_games: 50\n",
      "epoch: 48, player: 0, loss: 0.891 return: 0.520 ep_len: 141.060  n_games: 50\n",
      "epoch: 49, player: 0, loss: 0.824 return: 0.360 ep_len: 199.600  n_games: 50\n"
     ]
    }
   ],
   "source": [
    "vpg.train(game_spec, players, 50, 50, [0])"
   ]
  },
  {
   "cell_type": "code",
   "execution_count": null,
   "id": "developmental-tutorial",
   "metadata": {},
   "outputs": [],
   "source": []
  }
 ],
 "metadata": {
  "kernelspec": {
   "display_name": "Python 3",
   "language": "python",
   "name": "python3"
  },
  "language_info": {
   "codemirror_mode": {
    "name": "ipython",
    "version": 3
   },
   "file_extension": ".py",
   "mimetype": "text/x-python",
   "name": "python",
   "nbconvert_exporter": "python",
   "pygments_lexer": "ipython3",
   "version": "3.9.2"
  }
 },
 "nbformat": 4,
 "nbformat_minor": 5
}
