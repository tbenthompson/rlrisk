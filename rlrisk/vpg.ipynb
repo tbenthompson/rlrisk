{
 "cells": [
  {
   "cell_type": "code",
   "execution_count": 1,
   "id": "square-princeton",
   "metadata": {},
   "outputs": [],
   "source": [
    "import time\n",
    "import copy\n",
    "\n",
    "import numpy as np\n",
    "\n",
    "from env import Env, DumbPlayer\n",
    "from vpg import VPGPlayer, train"
   ]
  },
  {
   "cell_type": "code",
   "execution_count": 2,
   "id": "overall-painting",
   "metadata": {},
   "outputs": [],
   "source": [
    "game_spec = dict(\n",
    "    n_players=3,\n",
    "    n_territories=8,\n",
    "    baseline_reinforcements=3,\n",
    "    n_attacks_per_turn=10,\n",
    ")"
   ]
  },
  {
   "cell_type": "code",
   "execution_count": 3,
   "id": "fuzzy-spanish",
   "metadata": {},
   "outputs": [],
   "source": [
    "env = Env(game_spec)\n",
    "players = [VPGPlayer(env)] + [DumbPlayer() for i in range(game_spec['n_players'])]\n",
    "nn_player_idx = 0"
   ]
  },
  {
   "cell_type": "code",
   "execution_count": 4,
   "id": "nuclear-router",
   "metadata": {},
   "outputs": [
    {
     "name": "stderr",
     "output_type": "stream",
     "text": [
      "/home/tbent/Dropbox/active/rlrisk/rlrisk/vpg.py:69: UserWarning: The given NumPy array is not writeable, and PyTorch does not support non-writeable tensors. This means you can write to the underlying (supposedly non-writeable) NumPy array using the tensor. You may want to copy the array to protect its data or make it writeable before converting it to a tensor. This type of warning will be suppressed for the rest of this program. (Triggered internally at  /opt/conda/conda-bld/pytorch_1614378073166/work/torch/csrc/utils/tensor_numpy.cpp:143.)\n",
      "  attack_to = self.get_action(torch.as_tensor(state_vec, dtype=torch.float32))\n"
     ]
    },
    {
     "name": "stdout",
     "output_type": "stream",
     "text": [
      "epoch: 0, player: 0, loss: 1.249 return: 0.617 ep_len: 248.160  n_games: 81\n",
      "epoch: 1, player: 0, loss: 1.223 return: 0.625 ep_len: 229.932  n_games: 88\n",
      "epoch: 2, player: 0, loss: 1.200 return: 0.706 ep_len: 237.035  n_games: 85\n",
      "epoch: 3, player: 0, loss: 1.278 return: 0.744 ep_len: 223.144  n_games: 90\n",
      "epoch: 4, player: 0, loss: 1.561 return: 0.864 ep_len: 227.386  n_games: 88\n",
      "epoch: 5, player: 0, loss: 1.525 return: 0.851 ep_len: 230.782  n_games: 87\n",
      "epoch: 6, player: 0, loss: 1.386 return: 0.833 ep_len: 225.833  n_games: 90\n",
      "epoch: 7, player: 0, loss: 1.435 return: 0.874 ep_len: 230.506  n_games: 87\n",
      "epoch: 8, player: 0, loss: 1.344 return: 0.854 ep_len: 244.488  n_games: 82\n",
      "epoch: 9, player: 0, loss: 1.305 return: 0.833 ep_len: 258.154  n_games: 78\n",
      "epoch: 10, player: 0, loss: 1.382 return: 0.871 ep_len: 286.529  n_games: 70\n",
      "epoch: 11, player: 0, loss: 1.267 return: 0.844 ep_len: 262.805  n_games: 77\n",
      "epoch: 12, player: 0, loss: 1.368 return: 0.912 ep_len: 299.735  n_games: 68\n",
      "epoch: 13, player: 0, loss: 1.291 return: 0.889 ep_len: 249.543  n_games: 81\n",
      "epoch: 14, player: 0, loss: 1.308 return: 0.905 ep_len: 271.689  n_games: 74\n",
      "epoch: 15, player: 0, loss: 1.348 return: 0.951 ep_len: 252.778  n_games: 81\n",
      "epoch: 16, player: 0, loss: 1.269 return: 0.899 ep_len: 290.957  n_games: 69\n",
      "epoch: 17, player: 0, loss: 1.228 return: 0.923 ep_len: 311.138  n_games: 65\n",
      "epoch: 18, player: 0, loss: 1.179 return: 0.914 ep_len: 289.886  n_games: 70\n",
      "epoch: 19, player: 0, loss: 1.155 return: 0.983 ep_len: 347.793  n_games: 58\n",
      "epoch: 20, player: 0, loss: 1.079 return: 0.983 ep_len: 339.833  n_games: 60\n",
      "epoch: 21, player: 0, loss: 0.999 return: 0.944 ep_len: 371.926  n_games: 54\n",
      "epoch: 22, player: 0, loss: 0.916 return: 0.946 ep_len: 364.196  n_games: 56\n",
      "epoch: 23, player: 0, loss: 0.990 return: 1.000 ep_len: 347.828  n_games: 58\n",
      "epoch: 24, player: 0, loss: 1.075 return: 1.000 ep_len: 385.231  n_games: 52\n",
      "epoch: 25, player: 0, loss: 1.039 return: 0.902 ep_len: 399.137  n_games: 51\n",
      "epoch: 26, player: 0, loss: 1.031 return: 0.914 ep_len: 347.310  n_games: 58\n",
      "epoch: 27, player: 0, loss: 1.085 return: 0.885 ep_len: 385.519  n_games: 52\n",
      "epoch: 28, player: 0, loss: 1.078 return: 0.911 ep_len: 358.536  n_games: 56\n",
      "epoch: 29, player: 0, loss: 1.017 return: 0.837 ep_len: 411.061  n_games: 49\n",
      "epoch: 30, player: 0, loss: 1.133 return: 0.982 ep_len: 362.661  n_games: 56\n",
      "epoch: 31, player: 0, loss: 1.030 return: 0.904 ep_len: 387.154  n_games: 52\n",
      "epoch: 32, player: 0, loss: 1.131 return: 0.957 ep_len: 431.979  n_games: 47\n",
      "epoch: 33, player: 0, loss: 1.065 return: 0.915 ep_len: 435.489  n_games: 47\n",
      "epoch: 34, player: 0, loss: 1.126 return: 0.932 ep_len: 455.886  n_games: 44\n",
      "epoch: 35, player: 0, loss: 1.118 return: 0.953 ep_len: 473.442  n_games: 43\n",
      "epoch: 36, player: 0, loss: 1.045 return: 0.957 ep_len: 427.532  n_games: 47\n",
      "epoch: 37, player: 0, loss: 1.057 return: 0.958 ep_len: 419.854  n_games: 48\n",
      "epoch: 38, player: 0, loss: 0.981 return: 0.907 ep_len: 468.744  n_games: 43\n",
      "epoch: 39, player: 0, loss: 1.029 return: 0.953 ep_len: 474.233  n_games: 43\n",
      "epoch: 40, player: 0, loss: 1.028 return: 0.978 ep_len: 437.065  n_games: 46\n",
      "epoch: 41, player: 0, loss: 1.003 return: 1.000 ep_len: 538.256  n_games: 39\n",
      "epoch: 42, player: 0, loss: 0.949 return: 0.950 ep_len: 500.800  n_games: 40\n",
      "epoch: 43, player: 0, loss: 0.977 return: 1.000 ep_len: 516.795  n_games: 39\n",
      "epoch: 44, player: 0, loss: 0.989 return: 0.941 ep_len: 594.529  n_games: 34\n",
      "epoch: 45, player: 0, loss: 0.917 return: 0.971 ep_len: 592.941  n_games: 34\n",
      "epoch: 46, player: 0, loss: 0.946 return: 0.946 ep_len: 559.405  n_games: 37\n",
      "epoch: 47, player: 0, loss: 0.921 return: 0.974 ep_len: 515.718  n_games: 39\n",
      "epoch: 48, player: 0, loss: 0.941 return: 0.973 ep_len: 561.757  n_games: 37\n",
      "epoch: 49, player: 0, loss: 0.978 return: 1.000 ep_len: 585.917  n_games: 36\n"
     ]
    }
   ],
   "source": [
    "train(env, players, 50, 20000, [0])"
   ]
  },
  {
   "cell_type": "code",
   "execution_count": 5,
   "id": "hollow-liability",
   "metadata": {},
   "outputs": [
    {
     "name": "stdout",
     "output_type": "stream",
     "text": [
      "epoch: 0, player: 0, loss: 0.302 return: 0.364 ep_len: 1206.023  n_games: 44\n",
      "epoch: 0, player: 1, loss: 0.525 return: 0.295 ep_len: 642.886  n_games: 44\n",
      "epoch: 0, player: 2, loss: 0.477 return: 0.341 ep_len: 983.295  n_games: 44\n",
      "epoch: 1, player: 0, loss: 0.444 return: 0.526 ep_len: 1333.132  n_games: 38\n",
      "epoch: 1, player: 1, loss: 0.460 return: 0.184 ep_len: 655.789  n_games: 38\n",
      "epoch: 1, player: 2, loss: 0.301 return: 0.289 ep_len: 1107.553  n_games: 38\n",
      "epoch: 2, player: 0, loss: 0.427 return: 0.512 ep_len: 1184.186  n_games: 43\n",
      "epoch: 2, player: 1, loss: 0.460 return: 0.233 ep_len: 887.163  n_games: 43\n",
      "epoch: 2, player: 2, loss: 0.312 return: 0.256 ep_len: 884.186  n_games: 43\n",
      "epoch: 3, player: 0, loss: 0.294 return: 0.390 ep_len: 1227.829  n_games: 41\n",
      "epoch: 3, player: 1, loss: 0.475 return: 0.268 ep_len: 712.927  n_games: 41\n",
      "epoch: 3, player: 2, loss: 0.428 return: 0.341 ep_len: 993.878  n_games: 41\n",
      "epoch: 4, player: 0, loss: 0.445 return: 0.523 ep_len: 1141.545  n_games: 44\n",
      "epoch: 4, player: 1, loss: 0.380 return: 0.159 ep_len: 616.159  n_games: 44\n",
      "epoch: 4, player: 2, loss: 0.371 return: 0.318 ep_len: 916.818  n_games: 44\n",
      "epoch: 5, player: 0, loss: 0.218 return: 0.317 ep_len: 1236.537  n_games: 41\n",
      "epoch: 5, player: 1, loss: 0.572 return: 0.390 ep_len: 877.244  n_games: 41\n",
      "epoch: 5, player: 2, loss: 0.473 return: 0.293 ep_len: 833.854  n_games: 41\n",
      "epoch: 6, player: 0, loss: 0.496 return: 0.524 ep_len: 1202.000  n_games: 42\n",
      "epoch: 6, player: 1, loss: 0.234 return: 0.119 ep_len: 706.238  n_games: 42\n",
      "epoch: 6, player: 2, loss: 0.432 return: 0.357 ep_len: 1005.095  n_games: 42\n",
      "epoch: 7, player: 0, loss: 0.422 return: 0.500 ep_len: 1144.500  n_games: 44\n",
      "epoch: 7, player: 1, loss: 0.355 return: 0.159 ep_len: 633.682  n_games: 44\n",
      "epoch: 7, player: 2, loss: 0.457 return: 0.341 ep_len: 1009.841  n_games: 44\n",
      "epoch: 8, player: 0, loss: 0.435 return: 0.477 ep_len: 1137.114  n_games: 44\n",
      "epoch: 8, player: 1, loss: 0.293 return: 0.182 ep_len: 791.977  n_games: 44\n",
      "epoch: 8, player: 2, loss: 0.383 return: 0.341 ep_len: 847.864  n_games: 44\n",
      "epoch: 9, player: 0, loss: 0.235 return: 0.326 ep_len: 1205.512  n_games: 43\n",
      "epoch: 9, player: 1, loss: 0.403 return: 0.279 ep_len: 821.791  n_games: 43\n",
      "epoch: 9, player: 2, loss: 0.569 return: 0.395 ep_len: 1188.395  n_games: 43\n",
      "epoch: 10, player: 0, loss: 0.385 return: 0.551 ep_len: 1037.469  n_games: 49\n",
      "epoch: 10, player: 1, loss: 0.349 return: 0.184 ep_len: 660.082  n_games: 49\n",
      "epoch: 10, player: 2, loss: 0.375 return: 0.265 ep_len: 772.061  n_games: 49\n",
      "epoch: 11, player: 0, loss: 0.291 return: 0.378 ep_len: 1380.541  n_games: 37\n",
      "epoch: 11, player: 1, loss: 0.356 return: 0.243 ep_len: 959.405  n_games: 37\n",
      "epoch: 11, player: 2, loss: 0.614 return: 0.378 ep_len: 941.946  n_games: 37\n",
      "epoch: 12, player: 0, loss: 0.276 return: 0.439 ep_len: 1224.878  n_games: 41\n",
      "epoch: 12, player: 1, loss: 0.356 return: 0.195 ep_len: 664.805  n_games: 41\n",
      "epoch: 12, player: 2, loss: 0.477 return: 0.366 ep_len: 1057.756  n_games: 41\n",
      "epoch: 13, player: 0, loss: 0.390 return: 0.545 ep_len: 1530.788  n_games: 33\n",
      "epoch: 13, player: 1, loss: 0.266 return: 0.182 ep_len: 886.576  n_games: 33\n",
      "epoch: 13, player: 2, loss: 0.385 return: 0.273 ep_len: 1131.515  n_games: 33\n",
      "epoch: 14, player: 0, loss: 0.356 return: 0.462 ep_len: 1301.462  n_games: 39\n",
      "epoch: 14, player: 1, loss: 0.259 return: 0.154 ep_len: 926.923  n_games: 39\n",
      "epoch: 14, player: 2, loss: 0.524 return: 0.385 ep_len: 1049.256  n_games: 39\n",
      "epoch: 15, player: 0, loss: 0.262 return: 0.452 ep_len: 1213.333  n_games: 42\n",
      "epoch: 15, player: 1, loss: 0.479 return: 0.262 ep_len: 742.000  n_games: 42\n",
      "epoch: 15, player: 2, loss: 0.364 return: 0.286 ep_len: 987.690  n_games: 42\n",
      "epoch: 16, player: 0, loss: 0.368 return: 0.500 ep_len: 1427.722  n_games: 36\n",
      "epoch: 16, player: 1, loss: 0.389 return: 0.222 ep_len: 698.222  n_games: 36\n",
      "epoch: 16, player: 2, loss: 0.381 return: 0.278 ep_len: 1229.000  n_games: 36\n",
      "epoch: 17, player: 0, loss: 0.403 return: 0.556 ep_len: 1423.111  n_games: 36\n",
      "epoch: 17, player: 1, loss: 0.270 return: 0.167 ep_len: 1186.250  n_games: 36\n",
      "epoch: 17, player: 2, loss: 0.323 return: 0.278 ep_len: 963.444  n_games: 36\n",
      "epoch: 18, player: 0, loss: 0.270 return: 0.436 ep_len: 1290.846  n_games: 39\n",
      "epoch: 18, player: 1, loss: 0.247 return: 0.154 ep_len: 742.744  n_games: 39\n",
      "epoch: 18, player: 2, loss: 0.531 return: 0.410 ep_len: 1116.205  n_games: 39\n",
      "epoch: 19, player: 0, loss: 0.436 return: 0.525 ep_len: 1254.775  n_games: 40\n",
      "epoch: 19, player: 1, loss: 0.190 return: 0.125 ep_len: 649.525  n_games: 40\n",
      "epoch: 19, player: 2, loss: 0.438 return: 0.350 ep_len: 994.175  n_games: 40\n"
     ]
    }
   ],
   "source": [
    "selfplayer = copy.deepcopy(players[0])\n",
    "selfplayers = [selfplayer] * 3\n",
    "train(env, selfplayers, 20, 50000, [0,1,2])"
   ]
  },
  {
   "cell_type": "code",
   "execution_count": 8,
   "id": "phantom-panic",
   "metadata": {},
   "outputs": [
    {
     "name": "stdout",
     "output_type": "stream",
     "text": [
      "(array([0, 1, 2], dtype=int32), array([0.94, 0.04, 0.02]))\n",
      "(array([0, 1], dtype=int32), array([0.08, 0.92]))\n",
      "(array([0, 1, 2], dtype=int32), array([0.05, 0.02, 0.93]))\n"
     ]
    }
   ],
   "source": [
    "print(env.faceoff([players[0], DumbPlayer(), DumbPlayer()], 100)[1:])\n",
    "print(env.faceoff([DumbPlayer(), players[0], DumbPlayer()], 100)[1:])\n",
    "print(env.faceoff([DumbPlayer(), DumbPlayer(), players[0]], 100)[1:])"
   ]
  },
  {
   "cell_type": "code",
   "execution_count": 11,
   "id": "heard-special",
   "metadata": {},
   "outputs": [
    {
     "name": "stdout",
     "output_type": "stream",
     "text": [
      "(array([0, 1, 2], dtype=int32), array([0.54, 0.44, 0.02]))\n",
      "CPU times: user 3.95 s, sys: 0 ns, total: 3.95 s\n",
      "Wall time: 3.95 s\n"
     ]
    }
   ],
   "source": [
    "%%time\n",
    "print(env.faceoff([selfplayer, DumbPlayer(), DumbPlayer()], 50)[1:])"
   ]
  },
  {
   "cell_type": "code",
   "execution_count": 7,
   "id": "mental-mississippi",
   "metadata": {},
   "outputs": [
    {
     "name": "stdout",
     "output_type": "stream",
     "text": [
      "(array([0, 1, 2], dtype=int32), array([0.92, 0.04, 0.04]))\n",
      "(array([0, 1], dtype=int32), array([0.02, 0.98]))\n",
      "(array([0, 1, 2], dtype=int32), array([0.08, 0.02, 0.9 ]))\n"
     ]
    }
   ],
   "source": [
    "print(env.faceoff([selfplayer, DumbPlayer(), DumbPlayer()], 100)[1:])\n",
    "print(env.faceoff([DumbPlayer(), selfplayer, DumbPlayer()], 100)[1:])\n",
    "print(env.faceoff([DumbPlayer(), DumbPlayer(), selfplayer], 100)[1:])"
   ]
  },
  {
   "cell_type": "code",
   "execution_count": 9,
   "id": "single-complex",
   "metadata": {},
   "outputs": [
    {
     "name": "stdout",
     "output_type": "stream",
     "text": [
      "(array([0, 1, 2], dtype=int32), array([0.51, 0.15, 0.34]))\n",
      "(array([0, 1, 2], dtype=int32), array([0.48, 0.22, 0.3 ]))\n"
     ]
    }
   ],
   "source": [
    "print(env.faceoff([players[0], selfplayer, selfplayer], 100)[1:])\n",
    "print(env.faceoff([selfplayer, players[0], selfplayer], 100)[1:])"
   ]
  },
  {
   "cell_type": "code",
   "execution_count": 6,
   "id": "realistic-tower",
   "metadata": {},
   "outputs": [
    {
     "ename": "NameError",
     "evalue": "name 'faceoff' is not defined",
     "output_type": "error",
     "traceback": [
      "\u001b[0;31m---------------------------------------------------------------------------\u001b[0m",
      "\u001b[0;31mNameError\u001b[0m                                 Traceback (most recent call last)",
      "\u001b[0;32m<ipython-input-6-5acd8a8e5941>\u001b[0m in \u001b[0;36m<module>\u001b[0;34m\u001b[0m\n\u001b[0;32m----> 1\u001b[0;31m \u001b[0mfaceoff\u001b[0m\u001b[0;34m(\u001b[0m\u001b[0;34m[\u001b[0m\u001b[0mplayers\u001b[0m\u001b[0;34m[\u001b[0m\u001b[0;36m0\u001b[0m\u001b[0;34m]\u001b[0m\u001b[0;34m,\u001b[0m \u001b[0mselfplayer\u001b[0m\u001b[0;34m,\u001b[0m \u001b[0mselfplayer\u001b[0m\u001b[0;34m]\u001b[0m\u001b[0;34m,\u001b[0m \u001b[0;36m100\u001b[0m\u001b[0;34m)\u001b[0m\u001b[0;34m[\u001b[0m\u001b[0;36m1\u001b[0m\u001b[0;34m:\u001b[0m\u001b[0;34m]\u001b[0m\u001b[0;34m\u001b[0m\u001b[0;34m\u001b[0m\u001b[0m\n\u001b[0m",
      "\u001b[0;31mNameError\u001b[0m: name 'faceoff' is not defined"
     ]
    }
   ],
   "source": [
    "faceoff([players[0], selfplayer, selfplayer], 100)[1:]"
   ]
  },
  {
   "cell_type": "code",
   "execution_count": 16,
   "id": "written-preservation",
   "metadata": {},
   "outputs": [
    {
     "data": {
      "text/plain": [
       "(array([0, 0, 0, 0, 0, 0, 0, 0, 0, 0], dtype=int32),\n",
       " array([0], dtype=int32),\n",
       " array([1.]))"
      ]
     },
     "execution_count": 16,
     "metadata": {},
     "output_type": "execute_result"
    }
   ],
   "source": [
    "faceoff([players[0], DumbPlayer(), DumbPlayer()], 10)"
   ]
  },
  {
   "cell_type": "code",
   "execution_count": null,
   "id": "reasonable-dictionary",
   "metadata": {},
   "outputs": [],
   "source": [
    "train(env, [DumbPlayer(), NNPlayer(), DumbPlayer()], 50, 1000)"
   ]
  },
  {
   "cell_type": "code",
   "execution_count": null,
   "id": "interim-assault",
   "metadata": {},
   "outputs": [],
   "source": [
    "train(env, [DumbPlayer(), copy.deepcopy(players[0]), DumbPlayer()], 50, 1000)"
   ]
  }
 ],
 "metadata": {
  "kernelspec": {
   "display_name": "Python 3",
   "language": "python",
   "name": "python3"
  },
  "language_info": {
   "codemirror_mode": {
    "name": "ipython",
    "version": 3
   },
   "file_extension": ".py",
   "mimetype": "text/x-python",
   "name": "python",
   "nbconvert_exporter": "python",
   "pygments_lexer": "ipython3",
   "version": "3.9.2"
  }
 },
 "nbformat": 4,
 "nbformat_minor": 5
}
