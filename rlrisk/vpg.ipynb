{
 "cells": [
  {
   "cell_type": "code",
   "execution_count": 1,
   "id": "entire-evans",
   "metadata": {},
   "outputs": [],
   "source": [
    "import time\n",
    "import copy\n",
    "\n",
    "import numpy as np\n",
    "\n",
    "import env\n",
    "import vpg"
   ]
  },
  {
   "cell_type": "code",
   "execution_count": 2,
   "id": "ordered-championship",
   "metadata": {},
   "outputs": [],
   "source": [
    "game_spec = dict(\n",
    "    n_players=2,\n",
    "    n_territories=3,\n",
    "    baseline_reinforcements=1,\n",
    "    n_attacks_per_turn=1,\n",
    ")"
   ]
  },
  {
   "cell_type": "code",
   "execution_count": 3,
   "id": "amended-yorkshire",
   "metadata": {},
   "outputs": [
    {
     "name": "stdout",
     "output_type": "stream",
     "text": [
      "player=0, action=[0 3], board=[1. 0. 0. 5. 1. 0. 0. 2. 1. 0. 0. 6. 0. 1. 0. 0. 0. 0. 0. 0. 0. 0. 0. 0. 0. 0. 0. 0. 0. 0. 0. 0. 0. 0. 0.]\n",
      "player=1, action=[2 0], board=[0. 1. 0. 5. 1. 0. 0. 2. 1. 0. 0. 7. 0. 1. 0. 0. 0. 0. 0. 0. 0. 0. 0. 0. 0. 0. 0. 0. 0. 0. 0. 0. 0. 0. 0.]\n",
      "player=0, action=[0 5], board=[1. 0. 0. 4. 1. 0. 0. 2. 1. 0. 0. 7. 0. 1. 0. 0. 0. 0. 0. 0. 0. 0. 0. 0. 0. 0. 0. 0. 0. 0. 0. 0. 0. 0. 0.]\n",
      "player=1, action=[2 0], board=[0. 1. 0. 4. 1. 0. 0. 2. 1. 0. 0. 8. 0. 1. 0. 0. 0. 0. 0. 0. 0. 0. 0. 0. 0. 0. 0. 0. 0. 0. 0. 0. 0. 0. 0.]\n",
      "player=0, action=[0 0], board=[1. 0. 0. 3. 1. 0. 0. 2. 1. 0. 0. 8. 0. 1. 0. 0. 0. 0. 0. 0. 0. 0. 0. 0. 0. 0. 0. 0. 0. 0. 0. 0. 0. 0. 0.]\n",
      "player=1, action=[2 0], board=[0. 1. 0. 3. 1. 0. 0. 2. 1. 0. 0. 9. 0. 1. 0. 0. 0. 0. 0. 0. 0. 0. 0. 0. 0. 0. 0. 0. 0. 0. 0. 0. 0. 0. 0.]\n",
      "player=0, action=[0 1], board=[1. 0. 0. 2. 1. 0. 0. 2. 1. 0. 0. 9. 0. 1. 0. 0. 0. 0. 0. 0. 0. 0. 0. 0. 0. 0. 0. 0. 0. 0. 0. 0. 0. 0. 0.]\n",
      "player=1, action=[2 0], board=[ 0.  1.  0.  2.  1.  0.  0.  2.  1.  0.  0. 10.  0.  1.  0.  0.  0.  0.  0.  0.  0.  0.  0.  0.  0.  0.  0.  0.  0.  0.  0.  0.  0.  0.  0.]\n",
      "player=0, action=[1 0], board=[1. 0. 0. 9. 0. 1. 0. 3. 1. 0. 0. 1. 0. 1. 0. 0. 0. 0. 0. 0. 0. 0. 0. 0. 0. 0. 0. 0. 0. 0. 0. 0. 0. 0. 0.]\n",
      "player=1, action=[0 1], board=[ 0.  1.  0. 10.  0.  1.  0.  1.  1.  0.  0.  1.  0.  1.  0.  0.  0.  0.  0.  0.  0.  0.  0.  0.  0.  0.  0.  0.  0.  0.  0.  0.  0.  0.  0.]\n",
      "player=0, action=[1 6], board=[1. 0. 0. 9. 0. 1. 0. 2. 1. 0. 0. 1. 0. 1. 0. 0. 0. 0. 0. 0. 0. 0. 0. 0. 0. 0. 0. 0. 0. 0. 0. 0. 0. 0. 0.]\n",
      "player=1, action=[0 1], board=[ 0.  1.  0. 10.  0.  1.  0.  2.  1.  0.  0.  1.  0.  1.  0.  0.  0.  0.  0.  0.  0.  0.  0.  0.  0.  0.  0.  0.  0.  0.  0.  0.  0.  0.  0.]\n",
      "player=0, action=[1 0], board=[1. 0. 0. 8. 0. 1. 0. 3. 1. 0. 0. 1. 0. 1. 0. 0. 0. 0. 0. 0. 0. 0. 0. 0. 0. 0. 0. 0. 0. 0. 0. 0. 0. 0. 0.]\n",
      "player=1, action=[0 1], board=[0. 1. 0. 9. 0. 1. 0. 1. 1. 0. 0. 1. 0. 1. 0. 0. 0. 0. 0. 0. 0. 0. 0. 0. 0. 0. 0. 0. 0. 0. 0. 0. 0. 0. 0.]\n"
     ]
    },
    {
     "data": {
      "text/plain": [
       "(array([1], dtype=int32),\n",
       " array([[0., 1., 0., 1., 0., 1., 0., 8., 0., 1., 0., 1., 0., 1., 0., 0., 0., 0., 0., 0., 0., 0., 0., 0., 0., 0., 0., 0., 0., 0., 0., 0., 0., 0., 0.]], dtype=float32),\n",
       " [])"
      ]
     },
     "execution_count": 3,
     "metadata": {},
     "output_type": "execute_result"
    }
   ],
   "source": [
    "import torch\n",
    "torch.manual_seed(0)\n",
    "players = [vpg.VPGPlayer(0.01)] + [env.DumbPlayer() for i in range(game_spec['n_players'] - 1)]\n",
    "env.play_games(game_spec, players, [0], verbose=True)"
   ]
  },
  {
   "cell_type": "code",
   "execution_count": 4,
   "id": "brief-thumbnail",
   "metadata": {},
   "outputs": [
    {
     "name": "stderr",
     "output_type": "stream",
     "text": [
      "/home/tbent/.miniconda3/envs/rlrisk/lib/python3.9/site-packages/torch/autograd/__init__.py:145: UserWarning: CUDA initialization: CUDA unknown error - this may be due to an incorrectly set up environment, e.g. changing env variable CUDA_VISIBLE_DEVICES after program start. Setting the available devices to be zero. (Triggered internally at  /opt/conda/conda-bld/pytorch_1614378073166/work/c10/cuda/CUDAFunctions.cpp:109.)\n",
      "  Variable._execution_engine.run_backward(\n"
     ]
    }
   ],
   "source": [
    "from vpg import train_one_epoch\n",
    "torch.manual_seed(0)\n",
    "players = [vpg.VPGPlayer(0.01)] + [env.DumbPlayer() for i in range(game_spec['n_players'] - 1)]\n",
    "\n",
    "out = vpg.train_one_epoch(game_spec, players, 629)"
   ]
  },
  {
   "cell_type": "code",
   "execution_count": 6,
   "id": "headed-shower",
   "metadata": {},
   "outputs": [
    {
     "name": "stdout",
     "output_type": "stream",
     "text": [
      "epoch: 0, player: 0, loss: 0.395 return: 0.656 ep_len: 39.177  n_games: 1000\n",
      "epoch: 1, player: 0, loss: 0.410 return: 0.682 ep_len: 41.378  n_games: 1000\n",
      "epoch: 2, player: 0, loss: 0.394 return: 0.668 ep_len: 40.669  n_games: 1000\n",
      "epoch: 3, player: 0, loss: 0.378 return: 0.669 ep_len: 40.956  n_games: 1000\n",
      "epoch: 4, player: 0, loss: 0.403 return: 0.673 ep_len: 39.558  n_games: 1000\n",
      "epoch: 5, player: 0, loss: 0.403 return: 0.673 ep_len: 39.259  n_games: 1000\n",
      "epoch: 6, player: 0, loss: 0.424 return: 0.703 ep_len: 38.388  n_games: 1000\n",
      "epoch: 7, player: 0, loss: 0.449 return: 0.687 ep_len: 34.961  n_games: 1000\n",
      "epoch: 8, player: 0, loss: 0.453 return: 0.683 ep_len: 33.480  n_games: 1000\n",
      "epoch: 9, player: 0, loss: 0.495 return: 0.671 ep_len: 29.053  n_games: 1000\n",
      "epoch: 10, player: 0, loss: 0.505 return: 0.692 ep_len: 26.520  n_games: 1000\n",
      "epoch: 11, player: 0, loss: 0.459 return: 0.671 ep_len: 27.662  n_games: 1000\n",
      "epoch: 12, player: 0, loss: 0.397 return: 0.678 ep_len: 31.206  n_games: 1000\n",
      "epoch: 13, player: 0, loss: 0.498 return: 0.682 ep_len: 24.243  n_games: 1000\n",
      "epoch: 14, player: 0, loss: 0.479 return: 0.690 ep_len: 25.427  n_games: 1000\n",
      "epoch: 15, player: 0, loss: 0.527 return: 0.693 ep_len: 22.535  n_games: 1000\n",
      "epoch: 16, player: 0, loss: 0.567 return: 0.685 ep_len: 20.129  n_games: 1000\n",
      "epoch: 17, player: 0, loss: 0.515 return: 0.686 ep_len: 22.749  n_games: 1000\n",
      "epoch: 18, player: 0, loss: 0.618 return: 0.701 ep_len: 19.211  n_games: 1000\n",
      "epoch: 19, player: 0, loss: 0.618 return: 0.706 ep_len: 19.497  n_games: 1000\n",
      "epoch: 20, player: 0, loss: 0.650 return: 0.714 ep_len: 19.492  n_games: 1000\n",
      "epoch: 21, player: 0, loss: 0.635 return: 0.715 ep_len: 19.456  n_games: 1000\n",
      "epoch: 22, player: 0, loss: 0.653 return: 0.746 ep_len: 19.825  n_games: 1000\n",
      "epoch: 23, player: 0, loss: 0.627 return: 0.749 ep_len: 21.822  n_games: 1000\n",
      "epoch: 24, player: 0, loss: 0.595 return: 0.747 ep_len: 23.197  n_games: 1000\n",
      "epoch: 25, player: 0, loss: 0.567 return: 0.749 ep_len: 25.067  n_games: 1000\n",
      "epoch: 26, player: 0, loss: 0.542 return: 0.725 ep_len: 26.039  n_games: 1000\n",
      "epoch: 27, player: 0, loss: 0.524 return: 0.732 ep_len: 26.779  n_games: 1000\n",
      "epoch: 28, player: 0, loss: 0.501 return: 0.727 ep_len: 28.354  n_games: 1000\n",
      "epoch: 29, player: 0, loss: 0.497 return: 0.731 ep_len: 31.446  n_games: 1000\n",
      "epoch: 30, player: 0, loss: 0.488 return: 0.724 ep_len: 32.399  n_games: 1000\n",
      "epoch: 31, player: 0, loss: 0.462 return: 0.724 ep_len: 33.587  n_games: 1000\n",
      "epoch: 32, player: 0, loss: 0.453 return: 0.724 ep_len: 33.887  n_games: 1000\n",
      "epoch: 33, player: 0, loss: 0.424 return: 0.720 ep_len: 34.270  n_games: 1000\n",
      "epoch: 34, player: 0, loss: 0.441 return: 0.731 ep_len: 34.708  n_games: 1000\n",
      "epoch: 35, player: 0, loss: 0.432 return: 0.730 ep_len: 32.961  n_games: 1000\n",
      "epoch: 36, player: 0, loss: 0.433 return: 0.732 ep_len: 32.712  n_games: 1000\n",
      "epoch: 37, player: 0, loss: 0.436 return: 0.723 ep_len: 31.104  n_games: 1000\n",
      "epoch: 38, player: 0, loss: 0.418 return: 0.720 ep_len: 29.744  n_games: 1000\n",
      "epoch: 39, player: 0, loss: 0.409 return: 0.715 ep_len: 29.922  n_games: 1000\n",
      "epoch: 40, player: 0, loss: 0.418 return: 0.710 ep_len: 28.483  n_games: 1000\n",
      "epoch: 41, player: 0, loss: 0.400 return: 0.715 ep_len: 30.468  n_games: 1000\n",
      "epoch: 42, player: 0, loss: 0.379 return: 0.702 ep_len: 29.868  n_games: 1000\n",
      "epoch: 43, player: 0, loss: 0.383 return: 0.719 ep_len: 30.793  n_games: 1000\n",
      "epoch: 44, player: 0, loss: 0.354 return: 0.703 ep_len: 31.805  n_games: 1000\n",
      "epoch: 45, player: 0, loss: 0.354 return: 0.724 ep_len: 31.888  n_games: 1000\n",
      "epoch: 46, player: 0, loss: 0.350 return: 0.711 ep_len: 31.448  n_games: 1000\n",
      "epoch: 47, player: 0, loss: 0.352 return: 0.693 ep_len: 30.955  n_games: 1000\n",
      "epoch: 48, player: 0, loss: 0.368 return: 0.724 ep_len: 29.944  n_games: 1000\n",
      "epoch: 49, player: 0, loss: 0.367 return: 0.712 ep_len: 27.395  n_games: 1000\n"
     ]
    }
   ],
   "source": [
    "vpg.train(game_spec, players, 50, 1000, [0])"
   ]
  },
  {
   "cell_type": "code",
   "execution_count": 4,
   "id": "metallic-crime",
   "metadata": {},
   "outputs": [
    {
     "name": "stderr",
     "output_type": "stream",
     "text": [
      "/home/tbent/.miniconda3/envs/rlrisk/lib/python3.9/site-packages/torch/autograd/__init__.py:145: UserWarning: CUDA initialization: CUDA unknown error - this may be due to an incorrectly set up environment, e.g. changing env variable CUDA_VISIBLE_DEVICES after program start. Setting the available devices to be zero. (Triggered internally at  /opt/conda/conda-bld/pytorch_1614378073166/work/c10/cuda/CUDAFunctions.cpp:109.)\n",
      "  Variable._execution_engine.run_backward(\n"
     ]
    }
   ],
   "source": [
    "out = vpg.train_one_epoch(game_spec, players, 1)"
   ]
  },
  {
   "cell_type": "code",
   "execution_count": 5,
   "id": "legitimate-cooperative",
   "metadata": {},
   "outputs": [
    {
     "data": {
      "text/plain": [
       "[3, 5]"
      ]
     },
     "execution_count": 5,
     "metadata": {},
     "output_type": "execute_result"
    }
   ],
   "source": [
    "out[3][0].actions[:2]"
   ]
  },
  {
   "cell_type": "code",
   "execution_count": 6,
   "id": "selective-competition",
   "metadata": {},
   "outputs": [
    {
     "data": {
      "text/plain": [
       "[array([1., 0., 0., 6., 0., 1., 0., 5., 1., 0., 0., 2., 1., 0., 0., 0., 0., 0., 0., 0., 0., 0., 0., 0., 0., 0., 0., 0., 0., 0., 0., 0., 0., 0., 0.], dtype=float32),\n",
       " array([1., 0., 0., 5., 0., 1., 0., 6., 1., 0., 0., 2., 1., 0., 0., 0., 0., 0., 0., 0., 0., 0., 0., 0., 0., 0., 0., 0., 0., 0., 0., 0., 0., 0., 0.], dtype=float32)]"
      ]
     },
     "execution_count": 6,
     "metadata": {},
     "output_type": "execute_result"
    }
   ],
   "source": [
    "out[3][0].obs[:2]"
   ]
  },
  {
   "cell_type": "code",
   "execution_count": 7,
   "id": "answering-begin",
   "metadata": {},
   "outputs": [
    {
     "data": {
      "text/plain": [
       "37"
      ]
     },
     "execution_count": 7,
     "metadata": {},
     "output_type": "execute_result"
    }
   ],
   "source": [
    "len(out[3][0].obs)"
   ]
  },
  {
   "cell_type": "code",
   "execution_count": 8,
   "id": "elementary-tennessee",
   "metadata": {},
   "outputs": [
    {
     "data": {
      "text/plain": [
       "[1.0, 1.0]"
      ]
     },
     "execution_count": 8,
     "metadata": {},
     "output_type": "execute_result"
    }
   ],
   "source": [
    "out[3][0].weights[:2]"
   ]
  },
  {
   "cell_type": "code",
   "execution_count": 9,
   "id": "union-universe",
   "metadata": {},
   "outputs": [
    {
     "data": {
      "text/plain": [
       "[1.0]"
      ]
     },
     "execution_count": 9,
     "metadata": {},
     "output_type": "execute_result"
    }
   ],
   "source": [
    "out[3][0].returns"
   ]
  },
  {
   "cell_type": "code",
   "execution_count": null,
   "id": "twelve-guarantee",
   "metadata": {},
   "outputs": [],
   "source": []
  }
 ],
 "metadata": {
  "kernelspec": {
   "display_name": "Python 3",
   "language": "python",
   "name": "python3"
  },
  "language_info": {
   "codemirror_mode": {
    "name": "ipython",
    "version": 3
   },
   "file_extension": ".py",
   "mimetype": "text/x-python",
   "name": "python",
   "nbconvert_exporter": "python",
   "pygments_lexer": "ipython3",
   "version": "3.9.2"
  }
 },
 "nbformat": 4,
 "nbformat_minor": 5
}
