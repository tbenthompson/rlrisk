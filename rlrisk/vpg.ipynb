{
 "cells": [
  {
   "cell_type": "code",
   "execution_count": 2,
   "id": "separated-lafayette",
   "metadata": {},
   "outputs": [],
   "source": [
    "import time\n",
    "import copy\n",
    "\n",
    "import numpy as np\n",
    "\n",
    "from env import Env, DumbPlayer\n",
    "from vpg import VPGPlayer, train"
   ]
  },
  {
   "cell_type": "code",
   "execution_count": 4,
   "id": "placed-bargain",
   "metadata": {},
   "outputs": [],
   "source": [
    "game_spec = dict(\n",
    "    n_players=3,\n",
    "    n_territories=8,\n",
    "    baseline_reinforcements=3,\n",
    "    n_attacks_per_turn=10,\n",
    ")"
   ]
  },
  {
   "cell_type": "code",
   "execution_count": 5,
   "id": "shared-harris",
   "metadata": {},
   "outputs": [],
   "source": [
    "env = Env(game_spec)\n",
    "players = [VPGPlayer(env)] + [DumbPlayer() for i in range(game_spec['n_players'])]\n",
    "nn_player_idx = 0"
   ]
  },
  {
   "cell_type": "code",
   "execution_count": 6,
   "id": "instructional-consideration",
   "metadata": {},
   "outputs": [
    {
     "name": "stderr",
     "output_type": "stream",
     "text": [
      "/home/tbent/Dropbox/active/rlrisk/rlrisk/vpg.py:69: UserWarning: The given NumPy array is not writeable, and PyTorch does not support non-writeable tensors. This means you can write to the underlying (supposedly non-writeable) NumPy array using the tensor. You may want to copy the array to protect its data or make it writeable before converting it to a tensor. This type of warning will be suppressed for the rest of this program. (Triggered internally at  /opt/conda/conda-bld/pytorch_1614378073166/work/torch/csrc/utils/tensor_numpy.cpp:143.)\n",
      "  attack_to = self.get_action(torch.as_tensor(state_vec, dtype=torch.float32))\n"
     ]
    },
    {
     "name": "stdout",
     "output_type": "stream",
     "text": [
      "epoch: 0, player: 0, loss: 1.614 return: 0.857 ep_len: 222.714\n",
      "epoch: 1, player: 0, loss: 0.378 return: 0.286 ep_len: 217.357\n",
      "epoch: 2, player: 0, loss: 1.076 return: 0.385 ep_len: 241.615\n",
      "epoch: 3, player: 0, loss: 1.309 return: 0.583 ep_len: 250.417\n",
      "epoch: 4, player: 0, loss: 1.045 return: 0.467 ep_len: 205.200\n",
      "epoch: 5, player: 0, loss: 0.650 return: 0.308 ep_len: 241.000\n",
      "epoch: 6, player: 0, loss: 0.766 return: 0.385 ep_len: 241.846\n",
      "epoch: 7, player: 0, loss: 1.530 return: 0.818 ep_len: 291.727\n",
      "epoch: 8, player: 0, loss: 1.316 return: 0.667 ep_len: 365.444\n",
      "epoch: 9, player: 0, loss: 1.284 return: 0.600 ep_len: 315.100\n",
      "epoch: 10, player: 0, loss: 1.124 return: 0.500 ep_len: 421.125\n",
      "epoch: 11, player: 0, loss: 1.157 return: 0.667 ep_len: 366.000\n",
      "epoch: 12, player: 0, loss: 1.393 return: 0.833 ep_len: 507.000\n",
      "epoch: 13, player: 0, loss: 1.173 return: 0.667 ep_len: 373.778\n",
      "epoch: 14, player: 0, loss: 1.337 return: 0.700 ep_len: 362.000\n",
      "epoch: 15, player: 0, loss: 1.178 return: 0.667 ep_len: 345.667\n",
      "epoch: 16, player: 0, loss: 1.429 return: 1.000 ep_len: 1040.667\n",
      "epoch: 17, player: 0, loss: 1.096 return: 0.625 ep_len: 388.500\n",
      "epoch: 18, player: 0, loss: 1.342 return: 0.875 ep_len: 431.750\n",
      "epoch: 19, player: 0, loss: 1.130 return: 0.714 ep_len: 449.857\n",
      "epoch: 20, player: 0, loss: 1.163 return: 0.625 ep_len: 469.875\n",
      "epoch: 21, player: 0, loss: 0.804 return: 0.429 ep_len: 435.714\n",
      "epoch: 22, player: 0, loss: 1.217 return: 0.667 ep_len: 512.667\n",
      "epoch: 23, player: 0, loss: 1.292 return: 0.857 ep_len: 429.286\n",
      "epoch: 24, player: 0, loss: 1.367 return: 1.000 ep_len: 468.429\n",
      "epoch: 25, player: 0, loss: 0.902 return: 0.571 ep_len: 458.429\n",
      "epoch: 26, player: 0, loss: 1.328 return: 1.000 ep_len: 736.600\n",
      "epoch: 27, player: 0, loss: 1.147 return: 0.667 ep_len: 506.667\n",
      "epoch: 28, player: 0, loss: 1.101 return: 0.800 ep_len: 775.600\n",
      "epoch: 29, player: 0, loss: 1.258 return: 0.833 ep_len: 563.833\n",
      "epoch: 30, player: 0, loss: 1.336 return: 1.000 ep_len: 789.000\n",
      "epoch: 31, player: 0, loss: 1.189 return: 0.667 ep_len: 674.667\n",
      "epoch: 32, player: 0, loss: 1.252 return: 0.750 ep_len: 755.500\n",
      "epoch: 33, player: 0, loss: 1.279 return: 1.000 ep_len: 806.750\n",
      "epoch: 34, player: 0, loss: 1.165 return: 0.667 ep_len: 504.000\n",
      "epoch: 35, player: 0, loss: 1.021 return: 0.667 ep_len: 1045.667\n",
      "epoch: 36, player: 0, loss: 1.165 return: 1.000 ep_len: 887.250\n",
      "epoch: 37, player: 0, loss: 1.186 return: 1.000 ep_len: 737.000\n",
      "epoch: 38, player: 0, loss: 1.115 return: 0.800 ep_len: 753.000\n",
      "epoch: 39, player: 0, loss: 1.113 return: 0.800 ep_len: 666.200\n",
      "epoch: 40, player: 0, loss: 1.159 return: 1.000 ep_len: 1663.500\n",
      "epoch: 41, player: 0, loss: 1.082 return: 1.000 ep_len: 1154.000\n",
      "epoch: 42, player: 0, loss: 1.011 return: 0.625 ep_len: 457.625\n",
      "epoch: 43, player: 0, loss: 1.026 return: 1.000 ep_len: 674.600\n",
      "epoch: 44, player: 0, loss: 0.891 return: 0.600 ep_len: 768.200\n",
      "epoch: 45, player: 0, loss: 0.915 return: 1.000 ep_len: 1007.667\n",
      "epoch: 46, player: 0, loss: 0.973 return: 1.000 ep_len: 1032.750\n",
      "epoch: 47, player: 0, loss: 0.983 return: 0.800 ep_len: 820.400\n",
      "epoch: 48, player: 0, loss: 0.901 return: 1.000 ep_len: 1219.667\n",
      "epoch: 49, player: 0, loss: 0.747 return: 0.667 ep_len: 1054.667\n"
     ]
    }
   ],
   "source": [
    "train(env, players, 50, 3000, [0])"
   ]
  },
  {
   "cell_type": "code",
   "execution_count": 10,
   "id": "checked-vulnerability",
   "metadata": {},
   "outputs": [
    {
     "name": "stdout",
     "output_type": "stream",
     "text": [
      "(array([0, 1], dtype=int32), array([0.77, 0.23]))\n",
      "(array([0, 1], dtype=int32), array([0.03, 0.97]))\n",
      "(array([0, 1, 2], dtype=int32), array([0.06, 0.09, 0.85]))\n"
     ]
    }
   ],
   "source": [
    "print(env.faceoff([players[0], DumbPlayer(), DumbPlayer()], 100)[1:])\n",
    "print(env.faceoff([DumbPlayer(), players[0], DumbPlayer()], 100)[1:])\n",
    "print(env.faceoff([DumbPlayer(), DumbPlayer(), players[0]], 100)[1:])"
   ]
  },
  {
   "cell_type": "code",
   "execution_count": 5,
   "id": "subsequent-diesel",
   "metadata": {},
   "outputs": [
    {
     "name": "stdout",
     "output_type": "stream",
     "text": [
      "epoch: 0, player: 0, loss: 0.372 return: 0.333 ep_len: 4872.333\n",
      "epoch: 0, player: 1, loss: 0.162 return: 0.333 ep_len: 2645.333\n",
      "epoch: 0, player: 2, loss: 0.746 return: 0.333 ep_len: 2848.000\n",
      "epoch: 1, player: 0, loss: 0.531 return: 0.333 ep_len: 3596.333\n",
      "epoch: 1, player: 1, loss: 0.875 return: 0.333 ep_len: 1419.667\n",
      "epoch: 1, player: 2, loss: 0.148 return: 0.333 ep_len: 4199.667\n",
      "epoch: 2, player: 0, loss: 0.341 return: 0.333 ep_len: 3942.333\n",
      "epoch: 2, player: 1, loss: -0.000 return: 0.000 ep_len: 593.333\n",
      "epoch: 2, player: 2, loss: 0.489 return: 0.667 ep_len: 3937.000\n",
      "epoch: 3, player: 0, loss: 0.178 return: 0.250 ep_len: 2712.000\n",
      "epoch: 3, player: 1, loss: 0.588 return: 0.250 ep_len: 937.750\n",
      "epoch: 3, player: 2, loss: 0.395 return: 0.500 ep_len: 2994.750\n",
      "epoch: 4, player: 0, loss: 0.799 return: 1.000 ep_len: 15087.000\n",
      "epoch: 4, player: 1, loss: -0.000 return: 0.000 ep_len: 230.000\n",
      "epoch: 4, player: 2, loss: -0.000 return: 0.000 ep_len: 15080.000\n",
      "epoch: 5, player: 0, loss: 0.465 return: 0.333 ep_len: 3367.333\n",
      "epoch: 5, player: 1, loss: -0.000 return: 0.000 ep_len: 333.333\n",
      "epoch: 5, player: 2, loss: 0.386 return: 0.667 ep_len: 3364.000\n",
      "epoch: 6, player: 0, loss: 0.218 return: 0.333 ep_len: 4599.333\n",
      "epoch: 6, player: 1, loss: -0.000 return: 0.000 ep_len: 343.333\n",
      "epoch: 6, player: 2, loss: 0.524 return: 0.667 ep_len: 4592.333\n",
      "epoch: 7, player: 0, loss: 0.340 return: 0.600 ep_len: 2626.400\n",
      "epoch: 7, player: 1, loss: 0.547 return: 0.200 ep_len: 822.000\n",
      "epoch: 7, player: 2, loss: 0.321 return: 0.200 ep_len: 2045.000\n",
      "epoch: 8, player: 0, loss: -0.000 return: 0.000 ep_len: 3625.000\n",
      "epoch: 8, player: 1, loss: 0.726 return: 0.500 ep_len: 2278.750\n",
      "epoch: 8, player: 2, loss: 0.666 return: 0.500 ep_len: 1571.750\n",
      "epoch: 9, player: 0, loss: -0.000 return: 0.000 ep_len: 6120.000\n",
      "epoch: 9, player: 1, loss: -0.000 return: 0.000 ep_len: 1675.000\n",
      "epoch: 9, player: 2, loss: 0.689 return: 1.000 ep_len: 6114.500\n"
     ]
    }
   ],
   "source": [
    "selfplayer = copy.deepcopy(players[0])\n",
    "selfplayers = [selfplayer] * 3\n",
    "train(env, selfplayers, 10, 10000, [0,1,2])"
   ]
  },
  {
   "cell_type": "code",
   "execution_count": 11,
   "id": "material-whole",
   "metadata": {},
   "outputs": [
    {
     "name": "stdout",
     "output_type": "stream",
     "text": [
      "(array([0, 1], dtype=int32), array([0.81, 0.19]))\n",
      "(array([1], dtype=int32), array([1.]))\n",
      "(array([0, 1, 2], dtype=int32), array([0.2 , 0.09, 0.71]))\n"
     ]
    }
   ],
   "source": [
    "print(faceoff(env, [selfplayer, DumbPlayer(), DumbPlayer()], 100)[1:])\n",
    "print(faceoff(env, [DumbPlayer(), selfplayer, DumbPlayer()], 100)[1:])\n",
    "print(faceoff(env, [DumbPlayer(), DumbPlayer(), selfplayer], 100)[1:])"
   ]
  },
  {
   "cell_type": "code",
   "execution_count": 6,
   "id": "potential-destination",
   "metadata": {},
   "outputs": [
    {
     "ename": "NameError",
     "evalue": "name 'faceoff' is not defined",
     "output_type": "error",
     "traceback": [
      "\u001b[0;31m---------------------------------------------------------------------------\u001b[0m",
      "\u001b[0;31mNameError\u001b[0m                                 Traceback (most recent call last)",
      "\u001b[0;32m<ipython-input-6-5acd8a8e5941>\u001b[0m in \u001b[0;36m<module>\u001b[0;34m\u001b[0m\n\u001b[0;32m----> 1\u001b[0;31m \u001b[0mfaceoff\u001b[0m\u001b[0;34m(\u001b[0m\u001b[0;34m[\u001b[0m\u001b[0mplayers\u001b[0m\u001b[0;34m[\u001b[0m\u001b[0;36m0\u001b[0m\u001b[0;34m]\u001b[0m\u001b[0;34m,\u001b[0m \u001b[0mselfplayer\u001b[0m\u001b[0;34m,\u001b[0m \u001b[0mselfplayer\u001b[0m\u001b[0;34m]\u001b[0m\u001b[0;34m,\u001b[0m \u001b[0;36m100\u001b[0m\u001b[0;34m)\u001b[0m\u001b[0;34m[\u001b[0m\u001b[0;36m1\u001b[0m\u001b[0;34m:\u001b[0m\u001b[0;34m]\u001b[0m\u001b[0;34m\u001b[0m\u001b[0;34m\u001b[0m\u001b[0m\n\u001b[0m",
      "\u001b[0;31mNameError\u001b[0m: name 'faceoff' is not defined"
     ]
    }
   ],
   "source": [
    "faceoff([players[0], selfplayer, selfplayer], 100)[1:]"
   ]
  },
  {
   "cell_type": "code",
   "execution_count": 16,
   "id": "plain-maine",
   "metadata": {},
   "outputs": [
    {
     "data": {
      "text/plain": [
       "(array([0, 0, 0, 0, 0, 0, 0, 0, 0, 0], dtype=int32),\n",
       " array([0], dtype=int32),\n",
       " array([1.]))"
      ]
     },
     "execution_count": 16,
     "metadata": {},
     "output_type": "execute_result"
    }
   ],
   "source": [
    "faceoff([players[0], DumbPlayer(), DumbPlayer()], 10)"
   ]
  },
  {
   "cell_type": "code",
   "execution_count": null,
   "id": "structural-pregnancy",
   "metadata": {},
   "outputs": [],
   "source": [
    "train(env, [DumbPlayer(), NNPlayer(), DumbPlayer()], 50, 1000)"
   ]
  },
  {
   "cell_type": "code",
   "execution_count": null,
   "id": "stupid-dominant",
   "metadata": {},
   "outputs": [],
   "source": [
    "train(env, [DumbPlayer(), copy.deepcopy(players[0]), DumbPlayer()], 50, 1000)"
   ]
  }
 ],
 "metadata": {
  "kernelspec": {
   "display_name": "Python 3",
   "language": "python",
   "name": "python3"
  },
  "language_info": {
   "codemirror_mode": {
    "name": "ipython",
    "version": 3
   },
   "file_extension": ".py",
   "mimetype": "text/x-python",
   "name": "python",
   "nbconvert_exporter": "python",
   "pygments_lexer": "ipython3",
   "version": "3.9.2"
  }
 },
 "nbformat": 4,
 "nbformat_minor": 5
}
